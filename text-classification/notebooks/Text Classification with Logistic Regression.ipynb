{
  "cells": [
    {
      "cell_type": "markdown",
      "metadata": {
        "id": "zHNt1oRWkIBb"
      },
      "source": [
        "## Read Data"
      ]
    },
    {
      "cell_type": "code",
      "execution_count": 10,
      "metadata": {
        "id": "lMt3KIdfkIBd",
        "outputId": "02ad05ba-442b-4bab-dc9b-46b141860da3",
        "colab": {
          "base_uri": "https://localhost:8080/",
          "height": 73
        }
      },
      "outputs": [
        {
          "output_type": "display_data",
          "data": {
            "text/plain": [
              "<IPython.core.display.HTML object>"
            ],
            "text/html": [
              "\n",
              "     <input type=\"file\" id=\"files-d4b676b7-0a09-4b21-b76a-cc93d0a8cc1c\" name=\"files[]\" multiple disabled\n",
              "        style=\"border:none\" />\n",
              "     <output id=\"result-d4b676b7-0a09-4b21-b76a-cc93d0a8cc1c\">\n",
              "      Upload widget is only available when the cell has been executed in the\n",
              "      current browser session. Please rerun this cell to enable.\n",
              "      </output>\n",
              "      <script>// Copyright 2017 Google LLC\n",
              "//\n",
              "// Licensed under the Apache License, Version 2.0 (the \"License\");\n",
              "// you may not use this file except in compliance with the License.\n",
              "// You may obtain a copy of the License at\n",
              "//\n",
              "//      http://www.apache.org/licenses/LICENSE-2.0\n",
              "//\n",
              "// Unless required by applicable law or agreed to in writing, software\n",
              "// distributed under the License is distributed on an \"AS IS\" BASIS,\n",
              "// WITHOUT WARRANTIES OR CONDITIONS OF ANY KIND, either express or implied.\n",
              "// See the License for the specific language governing permissions and\n",
              "// limitations under the License.\n",
              "\n",
              "/**\n",
              " * @fileoverview Helpers for google.colab Python module.\n",
              " */\n",
              "(function(scope) {\n",
              "function span(text, styleAttributes = {}) {\n",
              "  const element = document.createElement('span');\n",
              "  element.textContent = text;\n",
              "  for (const key of Object.keys(styleAttributes)) {\n",
              "    element.style[key] = styleAttributes[key];\n",
              "  }\n",
              "  return element;\n",
              "}\n",
              "\n",
              "// Max number of bytes which will be uploaded at a time.\n",
              "const MAX_PAYLOAD_SIZE = 100 * 1024;\n",
              "\n",
              "function _uploadFiles(inputId, outputId) {\n",
              "  const steps = uploadFilesStep(inputId, outputId);\n",
              "  const outputElement = document.getElementById(outputId);\n",
              "  // Cache steps on the outputElement to make it available for the next call\n",
              "  // to uploadFilesContinue from Python.\n",
              "  outputElement.steps = steps;\n",
              "\n",
              "  return _uploadFilesContinue(outputId);\n",
              "}\n",
              "\n",
              "// This is roughly an async generator (not supported in the browser yet),\n",
              "// where there are multiple asynchronous steps and the Python side is going\n",
              "// to poll for completion of each step.\n",
              "// This uses a Promise to block the python side on completion of each step,\n",
              "// then passes the result of the previous step as the input to the next step.\n",
              "function _uploadFilesContinue(outputId) {\n",
              "  const outputElement = document.getElementById(outputId);\n",
              "  const steps = outputElement.steps;\n",
              "\n",
              "  const next = steps.next(outputElement.lastPromiseValue);\n",
              "  return Promise.resolve(next.value.promise).then((value) => {\n",
              "    // Cache the last promise value to make it available to the next\n",
              "    // step of the generator.\n",
              "    outputElement.lastPromiseValue = value;\n",
              "    return next.value.response;\n",
              "  });\n",
              "}\n",
              "\n",
              "/**\n",
              " * Generator function which is called between each async step of the upload\n",
              " * process.\n",
              " * @param {string} inputId Element ID of the input file picker element.\n",
              " * @param {string} outputId Element ID of the output display.\n",
              " * @return {!Iterable<!Object>} Iterable of next steps.\n",
              " */\n",
              "function* uploadFilesStep(inputId, outputId) {\n",
              "  const inputElement = document.getElementById(inputId);\n",
              "  inputElement.disabled = false;\n",
              "\n",
              "  const outputElement = document.getElementById(outputId);\n",
              "  outputElement.innerHTML = '';\n",
              "\n",
              "  const pickedPromise = new Promise((resolve) => {\n",
              "    inputElement.addEventListener('change', (e) => {\n",
              "      resolve(e.target.files);\n",
              "    });\n",
              "  });\n",
              "\n",
              "  const cancel = document.createElement('button');\n",
              "  inputElement.parentElement.appendChild(cancel);\n",
              "  cancel.textContent = 'Cancel upload';\n",
              "  const cancelPromise = new Promise((resolve) => {\n",
              "    cancel.onclick = () => {\n",
              "      resolve(null);\n",
              "    };\n",
              "  });\n",
              "\n",
              "  // Wait for the user to pick the files.\n",
              "  const files = yield {\n",
              "    promise: Promise.race([pickedPromise, cancelPromise]),\n",
              "    response: {\n",
              "      action: 'starting',\n",
              "    }\n",
              "  };\n",
              "\n",
              "  cancel.remove();\n",
              "\n",
              "  // Disable the input element since further picks are not allowed.\n",
              "  inputElement.disabled = true;\n",
              "\n",
              "  if (!files) {\n",
              "    return {\n",
              "      response: {\n",
              "        action: 'complete',\n",
              "      }\n",
              "    };\n",
              "  }\n",
              "\n",
              "  for (const file of files) {\n",
              "    const li = document.createElement('li');\n",
              "    li.append(span(file.name, {fontWeight: 'bold'}));\n",
              "    li.append(span(\n",
              "        `(${file.type || 'n/a'}) - ${file.size} bytes, ` +\n",
              "        `last modified: ${\n",
              "            file.lastModifiedDate ? file.lastModifiedDate.toLocaleDateString() :\n",
              "                                    'n/a'} - `));\n",
              "    const percent = span('0% done');\n",
              "    li.appendChild(percent);\n",
              "\n",
              "    outputElement.appendChild(li);\n",
              "\n",
              "    const fileDataPromise = new Promise((resolve) => {\n",
              "      const reader = new FileReader();\n",
              "      reader.onload = (e) => {\n",
              "        resolve(e.target.result);\n",
              "      };\n",
              "      reader.readAsArrayBuffer(file);\n",
              "    });\n",
              "    // Wait for the data to be ready.\n",
              "    let fileData = yield {\n",
              "      promise: fileDataPromise,\n",
              "      response: {\n",
              "        action: 'continue',\n",
              "      }\n",
              "    };\n",
              "\n",
              "    // Use a chunked sending to avoid message size limits. See b/62115660.\n",
              "    let position = 0;\n",
              "    do {\n",
              "      const length = Math.min(fileData.byteLength - position, MAX_PAYLOAD_SIZE);\n",
              "      const chunk = new Uint8Array(fileData, position, length);\n",
              "      position += length;\n",
              "\n",
              "      const base64 = btoa(String.fromCharCode.apply(null, chunk));\n",
              "      yield {\n",
              "        response: {\n",
              "          action: 'append',\n",
              "          file: file.name,\n",
              "          data: base64,\n",
              "        },\n",
              "      };\n",
              "\n",
              "      let percentDone = fileData.byteLength === 0 ?\n",
              "          100 :\n",
              "          Math.round((position / fileData.byteLength) * 100);\n",
              "      percent.textContent = `${percentDone}% done`;\n",
              "\n",
              "    } while (position < fileData.byteLength);\n",
              "  }\n",
              "\n",
              "  // All done.\n",
              "  yield {\n",
              "    response: {\n",
              "      action: 'complete',\n",
              "    }\n",
              "  };\n",
              "}\n",
              "\n",
              "scope.google = scope.google || {};\n",
              "scope.google.colab = scope.google.colab || {};\n",
              "scope.google.colab._files = {\n",
              "  _uploadFiles,\n",
              "  _uploadFilesContinue,\n",
              "};\n",
              "})(self);\n",
              "</script> "
            ]
          },
          "metadata": {}
        },
        {
          "output_type": "stream",
          "name": "stdout",
          "text": [
            "Saving news_category_dataset.json to news_category_dataset.json\n"
          ]
        }
      ],
      "source": [
        "import pandas as pd\n",
        "\n",
        "#this assumes one json item per line in json file\n",
        "\n",
        "from google.colab import files\n",
        "\n",
        "uploaded = files.upload()\n",
        "\n"
      ]
    },
    {
      "source": [
        "#this assumes one json item per line in json file\n",
        "df = pd.read_json('news_category_dataset.json', lines=True)"
      ],
      "cell_type": "code",
      "metadata": {
        "id": "OKtysVLOmmzH"
      },
      "execution_count": 11,
      "outputs": []
    },
    {
      "cell_type": "code",
      "execution_count": null,
      "metadata": {
        "id": "-d9kiVcekIBe",
        "outputId": "6211daca-343f-4324-d268-179fc477bd61"
      },
      "outputs": [
        {
          "data": {
            "text/plain": [
              "authors                      object\n",
              "category                     object\n",
              "date                 datetime64[ns]\n",
              "headline                     object\n",
              "link                         object\n",
              "short_description            object\n",
              "dtype: object"
            ]
          },
          "execution_count": 3,
          "metadata": {},
          "output_type": "execute_result"
        }
      ],
      "source": [
        "df.dtypes"
      ]
    },
    {
      "cell_type": "code",
      "execution_count": 12,
      "metadata": {
        "id": "2iXgg_IMkIBf",
        "outputId": "f9bdc3eb-7515-4535-eaf4-749a6ef371e7",
        "colab": {
          "base_uri": "https://localhost:8080/"
        }
      },
      "outputs": [
        {
          "output_type": "execute_result",
          "data": {
            "text/plain": [
              "124989"
            ]
          },
          "metadata": {},
          "execution_count": 12
        }
      ],
      "source": [
        "#number of rows (datapoints)\n",
        "len(df)"
      ]
    },
    {
      "cell_type": "code",
      "execution_count": null,
      "metadata": {
        "id": "4qYuYZ8YkIBf",
        "outputId": "96312417-9caf-49ec-d9b4-38fac512e5c5"
      },
      "outputs": [
        {
          "data": {
            "text/html": [
              "<div>\n",
              "<style scoped>\n",
              "    .dataframe tbody tr th:only-of-type {\n",
              "        vertical-align: middle;\n",
              "    }\n",
              "\n",
              "    .dataframe tbody tr th {\n",
              "        vertical-align: top;\n",
              "    }\n",
              "\n",
              "    .dataframe thead th {\n",
              "        text-align: right;\n",
              "    }\n",
              "</style>\n",
              "<table border=\"1\" class=\"dataframe\">\n",
              "  <thead>\n",
              "    <tr style=\"text-align: right;\">\n",
              "      <th></th>\n",
              "      <th>authors</th>\n",
              "      <th>category</th>\n",
              "      <th>date</th>\n",
              "      <th>headline</th>\n",
              "      <th>link</th>\n",
              "      <th>short_description</th>\n",
              "    </tr>\n",
              "  </thead>\n",
              "  <tbody>\n",
              "    <tr>\n",
              "      <th>2317</th>\n",
              "      <td>Chris McGonigal</td>\n",
              "      <td>WORLD NEWS</td>\n",
              "      <td>2018-04-12</td>\n",
              "      <td>Striking Photos Show Israelis Standing Still F...</td>\n",
              "      <td>https://www.huffingtonpost.com/entry/israelis-...</td>\n",
              "      <td>Traffic stopped for two minutes.</td>\n",
              "    </tr>\n",
              "    <tr>\n",
              "      <th>20810</th>\n",
              "      <td>Bill Bradley and David Moye</td>\n",
              "      <td>ENTERTAINMENT</td>\n",
              "      <td>2017-07-23</td>\n",
              "      <td>'Westworld' Season 2 Teaser Suggests Violent D...</td>\n",
              "      <td>https://www.huffingtonpost.com/entry/westworld...</td>\n",
              "      <td>This time, the robots are in charge?</td>\n",
              "    </tr>\n",
              "    <tr>\n",
              "      <th>56479</th>\n",
              "      <td>Eliot Nelson</td>\n",
              "      <td>POLITICS</td>\n",
              "      <td>2016-06-10</td>\n",
              "      <td>Donald Trump Tells Religious Conservatives He'...</td>\n",
              "      <td>https://www.huffingtonpost.com/entry/donald-tr...</td>\n",
              "      <td>His somber address was a hit at the Freedom Co...</td>\n",
              "    </tr>\n",
              "    <tr>\n",
              "      <th>39517</th>\n",
              "      <td>Jenna Amatulli</td>\n",
              "      <td>ARTS &amp; CULTURE</td>\n",
              "      <td>2016-12-19</td>\n",
              "      <td>Sadly, 'Puppy' Isn't Merriam-Webster's Word Of...</td>\n",
              "      <td>https://www.huffingtonpost.com/entry/sadly-pup...</td>\n",
              "      <td>“Surreal\" won out over \"puppy,” “flummadiddle,...</td>\n",
              "    </tr>\n",
              "    <tr>\n",
              "      <th>18634</th>\n",
              "      <td>Robert Koehler, ContributorPeace journalist</td>\n",
              "      <td>WORLD NEWS</td>\n",
              "      <td>2017-08-17</td>\n",
              "      <td>Why Does North Korea Hate Us?</td>\n",
              "      <td>https://www.huffingtonpost.com/entry/why-does-...</td>\n",
              "      <td>“The bombing was long, leisurely and merciless...</td>\n",
              "    </tr>\n",
              "    <tr>\n",
              "      <th>18900</th>\n",
              "      <td>East-West Center, ContributorPromoting better ...</td>\n",
              "      <td>WOMEN</td>\n",
              "      <td>2017-08-15</td>\n",
              "      <td>Asian Teams Participate In FIRST Global Roboti...</td>\n",
              "      <td>https://www.huffingtonpost.com/entry/asian-tea...</td>\n",
              "      <td>By Xinxin Zhang, Research Intern, East-West Ce...</td>\n",
              "    </tr>\n",
              "    <tr>\n",
              "      <th>88345</th>\n",
              "      <td>Sebastian Murdock</td>\n",
              "      <td>WEIRD NEWS</td>\n",
              "      <td>2015-06-14</td>\n",
              "      <td>This Is Not How You Play Frisbee, But We Love ...</td>\n",
              "      <td>https://www.huffingtonpost.com/entry/bosnian-f...</td>\n",
              "      <td></td>\n",
              "    </tr>\n",
              "    <tr>\n",
              "      <th>62054</th>\n",
              "      <td>James Cave</td>\n",
              "      <td>STYLE</td>\n",
              "      <td>2016-04-07</td>\n",
              "      <td>The Real Story On How Trench Coats Got Their Name</td>\n",
              "      <td>https://www.huffingtonpost.com/entry/why-are-t...</td>\n",
              "      <td>Bet you never knew how Burberry struck gold.</td>\n",
              "    </tr>\n",
              "    <tr>\n",
              "      <th>66784</th>\n",
              "      <td></td>\n",
              "      <td>SPORTS</td>\n",
              "      <td>2016-02-12</td>\n",
              "      <td>New York Mets Pitcher Jenrry Mejia Permanently...</td>\n",
              "      <td>https://www.huffingtonpost.comhttp://pubx.co/h...</td>\n",
              "      <td>New York Mets relief pitcher Jenrry Mejia has ...</td>\n",
              "    </tr>\n",
              "    <tr>\n",
              "      <th>73038</th>\n",
              "      <td></td>\n",
              "      <td>SPORTS</td>\n",
              "      <td>2015-12-03</td>\n",
              "      <td>New Wave of Arrests in FIFA Corruption Scandal</td>\n",
              "      <td>https://www.huffingtonpost.comhttp://www.nytim...</td>\n",
              "      <td>At least some of the arrests took place at the...</td>\n",
              "    </tr>\n",
              "    <tr>\n",
              "      <th>52487</th>\n",
              "      <td>Michael McLaughlin</td>\n",
              "      <td>POLITICS</td>\n",
              "      <td>2016-07-25</td>\n",
              "      <td>California City Bans Deceptive Ads By Anti-Abo...</td>\n",
              "      <td>https://www.huffingtonpost.com/entry/oakland-b...</td>\n",
              "      <td>Oakland's law targets pregnancy clinics that o...</td>\n",
              "    </tr>\n",
              "    <tr>\n",
              "      <th>111907</th>\n",
              "      <td>Bill Bradley</td>\n",
              "      <td>ENTERTAINMENT</td>\n",
              "      <td>2014-09-15</td>\n",
              "      <td>Daryl Dixon's Big Secret Is Finally Revealed</td>\n",
              "      <td>https://www.huffingtonpost.com/entry/walking-d...</td>\n",
              "      <td></td>\n",
              "    </tr>\n",
              "    <tr>\n",
              "      <th>64576</th>\n",
              "      <td>Zach Carter and Shahien Nasiripour</td>\n",
              "      <td>POLITICS</td>\n",
              "      <td>2016-03-08</td>\n",
              "      <td>Elizabeth Warren Is Not On The Ballot And Her ...</td>\n",
              "      <td>https://www.huffingtonpost.com/entry/elizabeth...</td>\n",
              "      <td>The progressive movement faces its biggest test.</td>\n",
              "    </tr>\n",
              "    <tr>\n",
              "      <th>39143</th>\n",
              "      <td>Nick Visser</td>\n",
              "      <td>HEALTHY LIVING</td>\n",
              "      <td>2016-12-23</td>\n",
              "      <td>Scientists Create Effective Ebola Vaccine, Jus...</td>\n",
              "      <td>https://www.huffingtonpost.com/entry/ebola-vac...</td>\n",
              "      <td>\"When the next Ebola outbreak hits, we will no...</td>\n",
              "    </tr>\n",
              "    <tr>\n",
              "      <th>87400</th>\n",
              "      <td>Beth Weissenberger, Contributor</td>\n",
              "      <td>HEALTHY LIVING</td>\n",
              "      <td>2015-06-25</td>\n",
              "      <td>The Soul's Ingredients: The Secret to Summonin...</td>\n",
              "      <td>https://www.huffingtonpost.com/entry/the-souls...</td>\n",
              "      <td></td>\n",
              "    </tr>\n",
              "    <tr>\n",
              "      <th>32935</th>\n",
              "      <td>Rebecca Shapiro</td>\n",
              "      <td>COMEDY</td>\n",
              "      <td>2017-03-02</td>\n",
              "      <td>Seth Meyers Chews Out The Media For Gushing Ov...</td>\n",
              "      <td>https://www.huffingtonpost.com/entry/seth-meye...</td>\n",
              "      <td>\"Guys, seriously, do you have amnesia?\"</td>\n",
              "    </tr>\n",
              "    <tr>\n",
              "      <th>48774</th>\n",
              "      <td>Lee Moran</td>\n",
              "      <td>COMEDY</td>\n",
              "      <td>2016-09-05</td>\n",
              "      <td>John Oliver Lists The Habits We Should Actuall...</td>\n",
              "      <td>https://www.huffingtonpost.com/entry/john-oliv...</td>\n",
              "      <td>Temporarily not wearing white isn't enough for...</td>\n",
              "    </tr>\n",
              "    <tr>\n",
              "      <th>17443</th>\n",
              "      <td>Dave Jamieson</td>\n",
              "      <td>POLITICS</td>\n",
              "      <td>2017-09-01</td>\n",
              "      <td>Labor Lawyers Blast Trump Administration For P...</td>\n",
              "      <td>https://www.huffingtonpost.com/entry/hundreds-...</td>\n",
              "      <td>\"To place him next to the brave men and women ...</td>\n",
              "    </tr>\n",
              "    <tr>\n",
              "      <th>114621</th>\n",
              "      <td>Andy Campbell</td>\n",
              "      <td>WEIRD NEWS</td>\n",
              "      <td>2014-08-16</td>\n",
              "      <td>Wrong-Way Driver Hits Cyclists, Hides Meth In ...</td>\n",
              "      <td>https://www.huffingtonpost.com/entry/wrongway-...</td>\n",
              "      <td></td>\n",
              "    </tr>\n",
              "    <tr>\n",
              "      <th>87370</th>\n",
              "      <td>Michael Ernest Sweet, ContributorCanadian Writ...</td>\n",
              "      <td>QUEER VOICES</td>\n",
              "      <td>2015-06-25</td>\n",
              "      <td>The Last Boys: A Book Of Photographs By Barry ...</td>\n",
              "      <td>https://www.huffingtonpost.com/entry/the-last-...</td>\n",
              "      <td></td>\n",
              "    </tr>\n",
              "    <tr>\n",
              "      <th>119406</th>\n",
              "      <td>Sara Eckel, ContributorAuthor, It’s Not You: 2...</td>\n",
              "      <td>WOMEN</td>\n",
              "      <td>2014-06-23</td>\n",
              "      <td>Are You Hot or Not? The Answer May Change With...</td>\n",
              "      <td>https://www.huffingtonpost.com/entry/are-you-h...</td>\n",
              "      <td>We all venture into the dating world hoping th...</td>\n",
              "    </tr>\n",
              "    <tr>\n",
              "      <th>117313</th>\n",
              "      <td>Lisa Copeland, ContributorDating Coach For Wom...</td>\n",
              "      <td>FIFTY</td>\n",
              "      <td>2014-07-16</td>\n",
              "      <td>Top 20 Dating Tips For Finding Love Again Afte...</td>\n",
              "      <td>https://www.huffingtonpost.com/entry/dating-ov...</td>\n",
              "      <td>1. Put in writing what type of relationship yo...</td>\n",
              "    </tr>\n",
              "    <tr>\n",
              "      <th>95992</th>\n",
              "      <td>Janell Burley Hofmann, ContributorAuthor, Spea...</td>\n",
              "      <td>PARENTS</td>\n",
              "      <td>2015-03-18</td>\n",
              "      <td>5 Tiny Stories From SxSW</td>\n",
              "      <td>https://www.huffingtonpost.com/entry/5-tiny-st...</td>\n",
              "      <td>You told the panel that they changed your life...</td>\n",
              "    </tr>\n",
              "    <tr>\n",
              "      <th>3400</th>\n",
              "      <td>Mary Papenfuss</td>\n",
              "      <td>ENTERTAINMENT</td>\n",
              "      <td>2018-03-23</td>\n",
              "      <td>Bill Murray Compares Parkland Teens To Vietnam...</td>\n",
              "      <td>https://www.huffingtonpost.com/entry/parkland-...</td>\n",
              "      <td>When your idealism isn't \"broken yet,\" you spe...</td>\n",
              "    </tr>\n",
              "    <tr>\n",
              "      <th>96289</th>\n",
              "      <td>Ron Dicker</td>\n",
              "      <td>SCIENCE</td>\n",
              "      <td>2015-03-14</td>\n",
              "      <td>You Might As Well Flip A Coin To Fill In Your ...</td>\n",
              "      <td>https://www.huffingtonpost.com/entry/flip-coin...</td>\n",
              "      <td></td>\n",
              "    </tr>\n",
              "    <tr>\n",
              "      <th>91428</th>\n",
              "      <td>China Hands, ContributorFor Future Leaders in ...</td>\n",
              "      <td>POLITICS</td>\n",
              "      <td>2015-05-10</td>\n",
              "      <td>Beyond the Gaokao: How Chinese Students Earn T...</td>\n",
              "      <td>https://www.huffingtonpost.com/entry/beyond-th...</td>\n",
              "      <td>Qi recounts three stories of students making t...</td>\n",
              "    </tr>\n",
              "    <tr>\n",
              "      <th>29215</th>\n",
              "      <td>Mary Papenfuss</td>\n",
              "      <td>SPORTS</td>\n",
              "      <td>2017-04-15</td>\n",
              "      <td>NFL's Todd Heap Runs Over Daughter In Deadly A...</td>\n",
              "      <td>https://www.huffingtonpost.com/entry/todd-heap...</td>\n",
              "      <td>The tragedy occurred in driveway of his Arizon...</td>\n",
              "    </tr>\n",
              "    <tr>\n",
              "      <th>49611</th>\n",
              "      <td>Michael McLaughlin</td>\n",
              "      <td>POLITICS</td>\n",
              "      <td>2016-08-26</td>\n",
              "      <td>Trump And Clinton Supporters Find Common Groun...</td>\n",
              "      <td>https://www.huffingtonpost.com/entry/trump-and...</td>\n",
              "      <td>But on other gun policy questions, the gaps ke...</td>\n",
              "    </tr>\n",
              "    <tr>\n",
              "      <th>53475</th>\n",
              "      <td>Leigh Blickley</td>\n",
              "      <td>ENTERTAINMENT</td>\n",
              "      <td>2016-07-14</td>\n",
              "      <td>'Game Of Thrones' Stars React To Their Emmy No...</td>\n",
              "      <td>https://www.huffingtonpost.com/entry/game-of-t...</td>\n",
              "      <td>So many (23, to be exact) noms for this amazin...</td>\n",
              "    </tr>\n",
              "    <tr>\n",
              "      <th>79857</th>\n",
              "      <td>James Michael Nichols</td>\n",
              "      <td>QUEER VOICES</td>\n",
              "      <td>2015-09-18</td>\n",
              "      <td>Seasonal Queer Coming-Of-Consciousness Party '...</td>\n",
              "      <td>https://www.huffingtonpost.com/entry/psychic-s...</td>\n",
              "      <td>\"We don’t impose rules on people -- the vibe i...</td>\n",
              "    </tr>\n",
              "    <tr>\n",
              "      <th>...</th>\n",
              "      <td>...</td>\n",
              "      <td>...</td>\n",
              "      <td>...</td>\n",
              "      <td>...</td>\n",
              "      <td>...</td>\n",
              "      <td>...</td>\n",
              "    </tr>\n",
              "    <tr>\n",
              "      <th>72907</th>\n",
              "      <td></td>\n",
              "      <td>CRIME</td>\n",
              "      <td>2015-12-04</td>\n",
              "      <td>California Rampage Shocks Those Who Knew Shooters</td>\n",
              "      <td>https://www.huffingtonpost.com/entry/san-berna...</td>\n",
              "      <td>\"This was a person who was successful, who had...</td>\n",
              "    </tr>\n",
              "    <tr>\n",
              "      <th>102621</th>\n",
              "      <td>Nick Visser</td>\n",
              "      <td>GREEN</td>\n",
              "      <td>2014-12-31</td>\n",
              "      <td>The 10 Best Photos From The Dept. Of The Inter...</td>\n",
              "      <td>https://www.huffingtonpost.com/entry/departmen...</td>\n",
              "      <td></td>\n",
              "    </tr>\n",
              "    <tr>\n",
              "      <th>108212</th>\n",
              "      <td>Cynthia Dagnal-Myron, ContributorReporter, Aut...</td>\n",
              "      <td>ENTERTAINMENT</td>\n",
              "      <td>2014-10-28</td>\n",
              "      <td>Jack Bruce: A Fond Fan Farewell</td>\n",
              "      <td>https://www.huffingtonpost.com/entry/jack-bruc...</td>\n",
              "      <td>Clapton was God to some--or so the graffiti sa...</td>\n",
              "    </tr>\n",
              "    <tr>\n",
              "      <th>94707</th>\n",
              "      <td>Kevin Price, ContributorPublisher and Editor i...</td>\n",
              "      <td>POLITICS</td>\n",
              "      <td>2015-04-02</td>\n",
              "      <td>Federal Laws: Too Numerous and Vague</td>\n",
              "      <td>https://www.huffingtonpost.com/entry/federal-l...</td>\n",
              "      <td>The vast majority of Americans clearly seem un...</td>\n",
              "    </tr>\n",
              "    <tr>\n",
              "      <th>54325</th>\n",
              "      <td>Sarah Guerrero, ContributorWriter &amp; Stay at Ho...</td>\n",
              "      <td>WOMEN</td>\n",
              "      <td>2016-07-04</td>\n",
              "      <td>I Had An Early Miscarriage</td>\n",
              "      <td>https://www.huffingtonpost.com/entry/i-had-an-...</td>\n",
              "      <td>Grief sneaks out during tired moments.</td>\n",
              "    </tr>\n",
              "    <tr>\n",
              "      <th>21837</th>\n",
              "      <td>Cavan Sieczkowski</td>\n",
              "      <td>ENTERTAINMENT</td>\n",
              "      <td>2017-07-11</td>\n",
              "      <td>Ryan Reynolds Gave The Best Nod To The Glory O...</td>\n",
              "      <td>https://www.huffingtonpost.com/entry/ryan-reyn...</td>\n",
              "      <td>Bow down.</td>\n",
              "    </tr>\n",
              "    <tr>\n",
              "      <th>102087</th>\n",
              "      <td>Mark DeCarlo, Contributor3 time Emmy Award win...</td>\n",
              "      <td>HEALTHY LIVING</td>\n",
              "      <td>2015-01-06</td>\n",
              "      <td>Michael Symon: Cleveland's Real King</td>\n",
              "      <td>https://www.huffingtonpost.com/entry/michael-s...</td>\n",
              "      <td></td>\n",
              "    </tr>\n",
              "    <tr>\n",
              "      <th>101670</th>\n",
              "      <td></td>\n",
              "      <td>RELIGION</td>\n",
              "      <td>2015-01-11</td>\n",
              "      <td>Police Chief To Black Churches: 'We Can't Do T...</td>\n",
              "      <td>https://www.huffingtonpost.com/entry/police-bl...</td>\n",
              "      <td></td>\n",
              "    </tr>\n",
              "    <tr>\n",
              "      <th>44538</th>\n",
              "      <td>Nina Golgowski</td>\n",
              "      <td>LATINO VOICES</td>\n",
              "      <td>2016-10-23</td>\n",
              "      <td>Eric Trump Poses With Woman Wearing 'Latina Ag...</td>\n",
              "      <td>https://www.huffingtonpost.com/entry/eric-trum...</td>\n",
              "      <td>\"It stands as a testament to the lack of diver...</td>\n",
              "    </tr>\n",
              "    <tr>\n",
              "      <th>50770</th>\n",
              "      <td>Cole Delbyck</td>\n",
              "      <td>ENTERTAINMENT</td>\n",
              "      <td>2016-08-13</td>\n",
              "      <td>Kenny Baker, The Actor Who Played R2-D2 In 'St...</td>\n",
              "      <td>https://www.huffingtonpost.com/entry/kenny-bak...</td>\n",
              "      <td>Sad beep.</td>\n",
              "    </tr>\n",
              "    <tr>\n",
              "      <th>50828</th>\n",
              "      <td>Cristian Farias</td>\n",
              "      <td>POLITICS</td>\n",
              "      <td>2016-08-12</td>\n",
              "      <td>Federal Judges Can't Clear Someone's Record, E...</td>\n",
              "      <td>https://www.huffingtonpost.com/entry/federal-j...</td>\n",
              "      <td>A court said they are without authority to wip...</td>\n",
              "    </tr>\n",
              "    <tr>\n",
              "      <th>109132</th>\n",
              "      <td>Ayala Laufer-Cahana, M.D., ContributorPhysicia...</td>\n",
              "      <td>HEALTHY LIVING</td>\n",
              "      <td>2014-10-17</td>\n",
              "      <td>Brain Zapping for Weight Loss</td>\n",
              "      <td>https://www.huffingtonpost.com/entry/brain-zap...</td>\n",
              "      <td></td>\n",
              "    </tr>\n",
              "    <tr>\n",
              "      <th>65178</th>\n",
              "      <td>Daniel Marans</td>\n",
              "      <td>POLITICS</td>\n",
              "      <td>2016-03-02</td>\n",
              "      <td>Mainstream Republicans Are Unsure How To Stop ...</td>\n",
              "      <td>https://www.huffingtonpost.com/entry/republica...</td>\n",
              "      <td>Others are resigned to his victory -- and are ...</td>\n",
              "    </tr>\n",
              "    <tr>\n",
              "      <th>17870</th>\n",
              "      <td>Emma Gray</td>\n",
              "      <td>WOMEN</td>\n",
              "      <td>2017-08-28</td>\n",
              "      <td>Trump Confuses Two Female Finnish Journalists ...</td>\n",
              "      <td>https://www.huffingtonpost.com/entry/trump-con...</td>\n",
              "      <td>The Finnish president had to explain that they...</td>\n",
              "    </tr>\n",
              "    <tr>\n",
              "      <th>50296</th>\n",
              "      <td>Natalie Jackson and Ariel Edwards-Levy</td>\n",
              "      <td>POLITICS</td>\n",
              "      <td>2016-08-18</td>\n",
              "      <td>HUFFPOLLSTER: Without Donald Trump, Republican...</td>\n",
              "      <td>https://www.huffingtonpost.com/entry/without-d...</td>\n",
              "      <td>The Republican nominee should be polling bette...</td>\n",
              "    </tr>\n",
              "    <tr>\n",
              "      <th>2924</th>\n",
              "      <td>Andy McDonald</td>\n",
              "      <td>ENTERTAINMENT</td>\n",
              "      <td>2018-04-02</td>\n",
              "      <td>'Broad City' Co-Creator Developing 'League Of ...</td>\n",
              "      <td>https://www.huffingtonpost.com/entry/league-of...</td>\n",
              "      <td>The project reportedly received the blessing o...</td>\n",
              "    </tr>\n",
              "    <tr>\n",
              "      <th>80415</th>\n",
              "      <td>Vishavjit Singh, ContributorEditorial cartoonist</td>\n",
              "      <td>RELIGION</td>\n",
              "      <td>2015-09-12</td>\n",
              "      <td>The Sikh Boy Who Developed Breasts And Grew Up...</td>\n",
              "      <td>https://www.huffingtonpost.com/entry/the-sikh-...</td>\n",
              "      <td>In my early childhood photos I look like a hea...</td>\n",
              "    </tr>\n",
              "    <tr>\n",
              "      <th>16535</th>\n",
              "      <td>Michael Tesler, ContributorAssociate Professor...</td>\n",
              "      <td>POLITICS</td>\n",
              "      <td>2017-09-14</td>\n",
              "      <td>Jemele Hill’s The Mainstream: Most Americans T...</td>\n",
              "      <td>https://www.huffingtonpost.com/entry/jemele-hi...</td>\n",
              "      <td>Jemele Hill, the ESPN host of SportsCenter’s “...</td>\n",
              "    </tr>\n",
              "    <tr>\n",
              "      <th>93889</th>\n",
              "      <td>Ron Dicker</td>\n",
              "      <td>LATINO VOICES</td>\n",
              "      <td>2015-04-11</td>\n",
              "      <td>Zoe Saldana Opens Up On Facebook About Post-Bi...</td>\n",
              "      <td>https://www.huffingtonpost.com/entry/zoe-salda...</td>\n",
              "      <td></td>\n",
              "    </tr>\n",
              "    <tr>\n",
              "      <th>119723</th>\n",
              "      <td>Eric J. Hall, ContributorPresident &amp; CEO of He...</td>\n",
              "      <td>HEALTHY LIVING</td>\n",
              "      <td>2014-06-19</td>\n",
              "      <td>Many Doctors Don't Support Life Support  When ...</td>\n",
              "      <td>https://www.huffingtonpost.com/entry/death-and...</td>\n",
              "      <td>A recent study of more than a thousand doctors...</td>\n",
              "    </tr>\n",
              "    <tr>\n",
              "      <th>3827</th>\n",
              "      <td>Curtis M. Wong</td>\n",
              "      <td>QUEER VOICES</td>\n",
              "      <td>2018-03-16</td>\n",
              "      <td>Newspaper Scraps References To Gay Man's Husba...</td>\n",
              "      <td>https://www.huffingtonpost.com/entry/texas-new...</td>\n",
              "      <td>The publisher of Texas' Olton Enterprise said ...</td>\n",
              "    </tr>\n",
              "    <tr>\n",
              "      <th>14693</th>\n",
              "      <td>Alexander C. Kaufman</td>\n",
              "      <td>POLITICS</td>\n",
              "      <td>2017-10-07</td>\n",
              "      <td>Pittsburgh’s Mayor Calls For ‘An American Mars...</td>\n",
              "      <td>https://www.huffingtonpost.com/entry/peduto-tr...</td>\n",
              "      <td>This could be the key for Democrats to win bac...</td>\n",
              "    </tr>\n",
              "    <tr>\n",
              "      <th>58342</th>\n",
              "      <td>Maddie Crum</td>\n",
              "      <td>ARTS &amp; CULTURE</td>\n",
              "      <td>2016-05-19</td>\n",
              "      <td>A Visual Survey Of Retro Computers That Predat...</td>\n",
              "      <td>https://www.huffingtonpost.com/entry/retro-com...</td>\n",
              "      <td>Elegant technology has a long history.</td>\n",
              "    </tr>\n",
              "    <tr>\n",
              "      <th>124933</th>\n",
              "      <td>David Finkle, ContributorWriter, Drama Critic</td>\n",
              "      <td>ARTS</td>\n",
              "      <td>2014-04-18</td>\n",
              "      <td>First Nighter: Moss Hart's \"Act One\" in Two Gr...</td>\n",
              "      <td>https://www.huffingtonpost.com/entry/first-nig...</td>\n",
              "      <td></td>\n",
              "    </tr>\n",
              "    <tr>\n",
              "      <th>19126</th>\n",
              "      <td>Sebastian Murdock</td>\n",
              "      <td>CRIME</td>\n",
              "      <td>2017-08-12</td>\n",
              "      <td>'Beautiful Moment Ripped Away' As Car Plows In...</td>\n",
              "      <td>https://www.huffingtonpost.com/entry/during-ra...</td>\n",
              "      <td>\"These terrorists aren't trolls -- they're ter...</td>\n",
              "    </tr>\n",
              "    <tr>\n",
              "      <th>57926</th>\n",
              "      <td></td>\n",
              "      <td>GOOD NEWS</td>\n",
              "      <td>2016-05-24</td>\n",
              "      <td>Paralyzed Dog Was About To Be Put Down When So...</td>\n",
              "      <td>https://www.huffingtonpost.comhttp://pubx.co/o...</td>\n",
              "      <td>Ollie, a 10-year-old Shetland sheepdog (aka Sh...</td>\n",
              "    </tr>\n",
              "    <tr>\n",
              "      <th>86604</th>\n",
              "      <td>Dragos Bratasanu, ContributorMake your dream a...</td>\n",
              "      <td>HEALTHY LIVING</td>\n",
              "      <td>2015-07-03</td>\n",
              "      <td>How To Create Giant Success (And Live A Fulfil...</td>\n",
              "      <td>https://www.huffingtonpost.com/entry/7-steps-t...</td>\n",
              "      <td>There is a series of mental events that lead t...</td>\n",
              "    </tr>\n",
              "    <tr>\n",
              "      <th>36765</th>\n",
              "      <td>Ron Dicker</td>\n",
              "      <td>ENTERTAINMENT</td>\n",
              "      <td>2017-01-19</td>\n",
              "      <td>Woman Waving Palestinian Flag Accosts Bella Ha...</td>\n",
              "      <td>https://www.huffingtonpost.com/entry/woman-wav...</td>\n",
              "      <td>Police say a harassment report has been filed.</td>\n",
              "    </tr>\n",
              "    <tr>\n",
              "      <th>56098</th>\n",
              "      <td>Minou Clark, The Huffington Post</td>\n",
              "      <td>COMEDY</td>\n",
              "      <td>2016-06-14</td>\n",
              "      <td>23 Things You'll Only Understand If You Still ...</td>\n",
              "      <td>https://www.huffingtonpost.com/entry/yup-still...</td>\n",
              "      <td>There's no place like home, right?</td>\n",
              "    </tr>\n",
              "    <tr>\n",
              "      <th>52090</th>\n",
              "      <td>Kate Sheppard</td>\n",
              "      <td>POLITICS</td>\n",
              "      <td>2016-07-29</td>\n",
              "      <td>Bill And Tim (And Hillary And Barack's) Excell...</td>\n",
              "      <td>https://www.huffingtonpost.com/entry/photos-ba...</td>\n",
              "      <td>Behind the scenes at the Democratic National C...</td>\n",
              "    </tr>\n",
              "  </tbody>\n",
              "</table>\n",
              "<p>100 rows × 6 columns</p>\n",
              "</div>"
            ],
            "text/plain": [
              "                                                  authors        category  \\\n",
              "2317                                      Chris McGonigal      WORLD NEWS   \n",
              "20810                         Bill Bradley and David Moye   ENTERTAINMENT   \n",
              "56479                                        Eliot Nelson        POLITICS   \n",
              "39517                                      Jenna Amatulli  ARTS & CULTURE   \n",
              "18634         Robert Koehler, ContributorPeace journalist      WORLD NEWS   \n",
              "18900   East-West Center, ContributorPromoting better ...           WOMEN   \n",
              "88345                                   Sebastian Murdock      WEIRD NEWS   \n",
              "62054                                          James Cave           STYLE   \n",
              "66784                                                              SPORTS   \n",
              "73038                                                              SPORTS   \n",
              "52487                                  Michael McLaughlin        POLITICS   \n",
              "111907                                       Bill Bradley   ENTERTAINMENT   \n",
              "64576                  Zach Carter and Shahien Nasiripour        POLITICS   \n",
              "39143                                         Nick Visser  HEALTHY LIVING   \n",
              "87400                     Beth Weissenberger, Contributor  HEALTHY LIVING   \n",
              "32935                                     Rebecca Shapiro          COMEDY   \n",
              "48774                                           Lee Moran          COMEDY   \n",
              "17443                                       Dave Jamieson        POLITICS   \n",
              "114621                                      Andy Campbell      WEIRD NEWS   \n",
              "87370   Michael Ernest Sweet, ContributorCanadian Writ...    QUEER VOICES   \n",
              "119406  Sara Eckel, ContributorAuthor, It’s Not You: 2...           WOMEN   \n",
              "117313  Lisa Copeland, ContributorDating Coach For Wom...           FIFTY   \n",
              "95992   Janell Burley Hofmann, ContributorAuthor, Spea...         PARENTS   \n",
              "3400                                       Mary Papenfuss   ENTERTAINMENT   \n",
              "96289                                          Ron Dicker         SCIENCE   \n",
              "91428   China Hands, ContributorFor Future Leaders in ...        POLITICS   \n",
              "29215                                      Mary Papenfuss          SPORTS   \n",
              "49611                                  Michael McLaughlin        POLITICS   \n",
              "53475                                      Leigh Blickley   ENTERTAINMENT   \n",
              "79857                               James Michael Nichols    QUEER VOICES   \n",
              "...                                                   ...             ...   \n",
              "72907                                                               CRIME   \n",
              "102621                                        Nick Visser           GREEN   \n",
              "108212  Cynthia Dagnal-Myron, ContributorReporter, Aut...   ENTERTAINMENT   \n",
              "94707   Kevin Price, ContributorPublisher and Editor i...        POLITICS   \n",
              "54325   Sarah Guerrero, ContributorWriter & Stay at Ho...           WOMEN   \n",
              "21837                                   Cavan Sieczkowski   ENTERTAINMENT   \n",
              "102087  Mark DeCarlo, Contributor3 time Emmy Award win...  HEALTHY LIVING   \n",
              "101670                                                           RELIGION   \n",
              "44538                                      Nina Golgowski   LATINO VOICES   \n",
              "50770                                        Cole Delbyck   ENTERTAINMENT   \n",
              "50828                                     Cristian Farias        POLITICS   \n",
              "109132  Ayala Laufer-Cahana, M.D., ContributorPhysicia...  HEALTHY LIVING   \n",
              "65178                                       Daniel Marans        POLITICS   \n",
              "17870                                           Emma Gray           WOMEN   \n",
              "50296              Natalie Jackson and Ariel Edwards-Levy        POLITICS   \n",
              "2924                                        Andy McDonald   ENTERTAINMENT   \n",
              "80415    Vishavjit Singh, ContributorEditorial cartoonist        RELIGION   \n",
              "16535   Michael Tesler, ContributorAssociate Professor...        POLITICS   \n",
              "93889                                          Ron Dicker   LATINO VOICES   \n",
              "119723  Eric J. Hall, ContributorPresident & CEO of He...  HEALTHY LIVING   \n",
              "3827                                       Curtis M. Wong    QUEER VOICES   \n",
              "14693                                Alexander C. Kaufman        POLITICS   \n",
              "58342                                         Maddie Crum  ARTS & CULTURE   \n",
              "124933      David Finkle, ContributorWriter, Drama Critic            ARTS   \n",
              "19126                                   Sebastian Murdock           CRIME   \n",
              "57926                                                           GOOD NEWS   \n",
              "86604   Dragos Bratasanu, ContributorMake your dream a...  HEALTHY LIVING   \n",
              "36765                                          Ron Dicker   ENTERTAINMENT   \n",
              "56098                    Minou Clark, The Huffington Post          COMEDY   \n",
              "52090                                       Kate Sheppard        POLITICS   \n",
              "\n",
              "             date                                           headline  \\\n",
              "2317   2018-04-12  Striking Photos Show Israelis Standing Still F...   \n",
              "20810  2017-07-23  'Westworld' Season 2 Teaser Suggests Violent D...   \n",
              "56479  2016-06-10  Donald Trump Tells Religious Conservatives He'...   \n",
              "39517  2016-12-19  Sadly, 'Puppy' Isn't Merriam-Webster's Word Of...   \n",
              "18634  2017-08-17                      Why Does North Korea Hate Us?   \n",
              "18900  2017-08-15  Asian Teams Participate In FIRST Global Roboti...   \n",
              "88345  2015-06-14  This Is Not How You Play Frisbee, But We Love ...   \n",
              "62054  2016-04-07  The Real Story On How Trench Coats Got Their Name   \n",
              "66784  2016-02-12  New York Mets Pitcher Jenrry Mejia Permanently...   \n",
              "73038  2015-12-03     New Wave of Arrests in FIFA Corruption Scandal   \n",
              "52487  2016-07-25  California City Bans Deceptive Ads By Anti-Abo...   \n",
              "111907 2014-09-15       Daryl Dixon's Big Secret Is Finally Revealed   \n",
              "64576  2016-03-08  Elizabeth Warren Is Not On The Ballot And Her ...   \n",
              "39143  2016-12-23  Scientists Create Effective Ebola Vaccine, Jus...   \n",
              "87400  2015-06-25  The Soul's Ingredients: The Secret to Summonin...   \n",
              "32935  2017-03-02  Seth Meyers Chews Out The Media For Gushing Ov...   \n",
              "48774  2016-09-05  John Oliver Lists The Habits We Should Actuall...   \n",
              "17443  2017-09-01  Labor Lawyers Blast Trump Administration For P...   \n",
              "114621 2014-08-16  Wrong-Way Driver Hits Cyclists, Hides Meth In ...   \n",
              "87370  2015-06-25  The Last Boys: A Book Of Photographs By Barry ...   \n",
              "119406 2014-06-23  Are You Hot or Not? The Answer May Change With...   \n",
              "117313 2014-07-16  Top 20 Dating Tips For Finding Love Again Afte...   \n",
              "95992  2015-03-18                           5 Tiny Stories From SxSW   \n",
              "3400   2018-03-23  Bill Murray Compares Parkland Teens To Vietnam...   \n",
              "96289  2015-03-14  You Might As Well Flip A Coin To Fill In Your ...   \n",
              "91428  2015-05-10  Beyond the Gaokao: How Chinese Students Earn T...   \n",
              "29215  2017-04-15  NFL's Todd Heap Runs Over Daughter In Deadly A...   \n",
              "49611  2016-08-26  Trump And Clinton Supporters Find Common Groun...   \n",
              "53475  2016-07-14  'Game Of Thrones' Stars React To Their Emmy No...   \n",
              "79857  2015-09-18  Seasonal Queer Coming-Of-Consciousness Party '...   \n",
              "...           ...                                                ...   \n",
              "72907  2015-12-04  California Rampage Shocks Those Who Knew Shooters   \n",
              "102621 2014-12-31  The 10 Best Photos From The Dept. Of The Inter...   \n",
              "108212 2014-10-28                    Jack Bruce: A Fond Fan Farewell   \n",
              "94707  2015-04-02               Federal Laws: Too Numerous and Vague   \n",
              "54325  2016-07-04                         I Had An Early Miscarriage   \n",
              "21837  2017-07-11  Ryan Reynolds Gave The Best Nod To The Glory O...   \n",
              "102087 2015-01-06               Michael Symon: Cleveland's Real King   \n",
              "101670 2015-01-11  Police Chief To Black Churches: 'We Can't Do T...   \n",
              "44538  2016-10-23  Eric Trump Poses With Woman Wearing 'Latina Ag...   \n",
              "50770  2016-08-13  Kenny Baker, The Actor Who Played R2-D2 In 'St...   \n",
              "50828  2016-08-12  Federal Judges Can't Clear Someone's Record, E...   \n",
              "109132 2014-10-17                      Brain Zapping for Weight Loss   \n",
              "65178  2016-03-02  Mainstream Republicans Are Unsure How To Stop ...   \n",
              "17870  2017-08-28  Trump Confuses Two Female Finnish Journalists ...   \n",
              "50296  2016-08-18  HUFFPOLLSTER: Without Donald Trump, Republican...   \n",
              "2924   2018-04-02  'Broad City' Co-Creator Developing 'League Of ...   \n",
              "80415  2015-09-12  The Sikh Boy Who Developed Breasts And Grew Up...   \n",
              "16535  2017-09-14  Jemele Hill’s The Mainstream: Most Americans T...   \n",
              "93889  2015-04-11  Zoe Saldana Opens Up On Facebook About Post-Bi...   \n",
              "119723 2014-06-19  Many Doctors Don't Support Life Support  When ...   \n",
              "3827   2018-03-16  Newspaper Scraps References To Gay Man's Husba...   \n",
              "14693  2017-10-07  Pittsburgh’s Mayor Calls For ‘An American Mars...   \n",
              "58342  2016-05-19  A Visual Survey Of Retro Computers That Predat...   \n",
              "124933 2014-04-18  First Nighter: Moss Hart's \"Act One\" in Two Gr...   \n",
              "19126  2017-08-12  'Beautiful Moment Ripped Away' As Car Plows In...   \n",
              "57926  2016-05-24  Paralyzed Dog Was About To Be Put Down When So...   \n",
              "86604  2015-07-03  How To Create Giant Success (And Live A Fulfil...   \n",
              "36765  2017-01-19  Woman Waving Palestinian Flag Accosts Bella Ha...   \n",
              "56098  2016-06-14  23 Things You'll Only Understand If You Still ...   \n",
              "52090  2016-07-29  Bill And Tim (And Hillary And Barack's) Excell...   \n",
              "\n",
              "                                                     link  \\\n",
              "2317    https://www.huffingtonpost.com/entry/israelis-...   \n",
              "20810   https://www.huffingtonpost.com/entry/westworld...   \n",
              "56479   https://www.huffingtonpost.com/entry/donald-tr...   \n",
              "39517   https://www.huffingtonpost.com/entry/sadly-pup...   \n",
              "18634   https://www.huffingtonpost.com/entry/why-does-...   \n",
              "18900   https://www.huffingtonpost.com/entry/asian-tea...   \n",
              "88345   https://www.huffingtonpost.com/entry/bosnian-f...   \n",
              "62054   https://www.huffingtonpost.com/entry/why-are-t...   \n",
              "66784   https://www.huffingtonpost.comhttp://pubx.co/h...   \n",
              "73038   https://www.huffingtonpost.comhttp://www.nytim...   \n",
              "52487   https://www.huffingtonpost.com/entry/oakland-b...   \n",
              "111907  https://www.huffingtonpost.com/entry/walking-d...   \n",
              "64576   https://www.huffingtonpost.com/entry/elizabeth...   \n",
              "39143   https://www.huffingtonpost.com/entry/ebola-vac...   \n",
              "87400   https://www.huffingtonpost.com/entry/the-souls...   \n",
              "32935   https://www.huffingtonpost.com/entry/seth-meye...   \n",
              "48774   https://www.huffingtonpost.com/entry/john-oliv...   \n",
              "17443   https://www.huffingtonpost.com/entry/hundreds-...   \n",
              "114621  https://www.huffingtonpost.com/entry/wrongway-...   \n",
              "87370   https://www.huffingtonpost.com/entry/the-last-...   \n",
              "119406  https://www.huffingtonpost.com/entry/are-you-h...   \n",
              "117313  https://www.huffingtonpost.com/entry/dating-ov...   \n",
              "95992   https://www.huffingtonpost.com/entry/5-tiny-st...   \n",
              "3400    https://www.huffingtonpost.com/entry/parkland-...   \n",
              "96289   https://www.huffingtonpost.com/entry/flip-coin...   \n",
              "91428   https://www.huffingtonpost.com/entry/beyond-th...   \n",
              "29215   https://www.huffingtonpost.com/entry/todd-heap...   \n",
              "49611   https://www.huffingtonpost.com/entry/trump-and...   \n",
              "53475   https://www.huffingtonpost.com/entry/game-of-t...   \n",
              "79857   https://www.huffingtonpost.com/entry/psychic-s...   \n",
              "...                                                   ...   \n",
              "72907   https://www.huffingtonpost.com/entry/san-berna...   \n",
              "102621  https://www.huffingtonpost.com/entry/departmen...   \n",
              "108212  https://www.huffingtonpost.com/entry/jack-bruc...   \n",
              "94707   https://www.huffingtonpost.com/entry/federal-l...   \n",
              "54325   https://www.huffingtonpost.com/entry/i-had-an-...   \n",
              "21837   https://www.huffingtonpost.com/entry/ryan-reyn...   \n",
              "102087  https://www.huffingtonpost.com/entry/michael-s...   \n",
              "101670  https://www.huffingtonpost.com/entry/police-bl...   \n",
              "44538   https://www.huffingtonpost.com/entry/eric-trum...   \n",
              "50770   https://www.huffingtonpost.com/entry/kenny-bak...   \n",
              "50828   https://www.huffingtonpost.com/entry/federal-j...   \n",
              "109132  https://www.huffingtonpost.com/entry/brain-zap...   \n",
              "65178   https://www.huffingtonpost.com/entry/republica...   \n",
              "17870   https://www.huffingtonpost.com/entry/trump-con...   \n",
              "50296   https://www.huffingtonpost.com/entry/without-d...   \n",
              "2924    https://www.huffingtonpost.com/entry/league-of...   \n",
              "80415   https://www.huffingtonpost.com/entry/the-sikh-...   \n",
              "16535   https://www.huffingtonpost.com/entry/jemele-hi...   \n",
              "93889   https://www.huffingtonpost.com/entry/zoe-salda...   \n",
              "119723  https://www.huffingtonpost.com/entry/death-and...   \n",
              "3827    https://www.huffingtonpost.com/entry/texas-new...   \n",
              "14693   https://www.huffingtonpost.com/entry/peduto-tr...   \n",
              "58342   https://www.huffingtonpost.com/entry/retro-com...   \n",
              "124933  https://www.huffingtonpost.com/entry/first-nig...   \n",
              "19126   https://www.huffingtonpost.com/entry/during-ra...   \n",
              "57926   https://www.huffingtonpost.comhttp://pubx.co/o...   \n",
              "86604   https://www.huffingtonpost.com/entry/7-steps-t...   \n",
              "36765   https://www.huffingtonpost.com/entry/woman-wav...   \n",
              "56098   https://www.huffingtonpost.com/entry/yup-still...   \n",
              "52090   https://www.huffingtonpost.com/entry/photos-ba...   \n",
              "\n",
              "                                        short_description  \n",
              "2317                     Traffic stopped for two minutes.  \n",
              "20810                This time, the robots are in charge?  \n",
              "56479   His somber address was a hit at the Freedom Co...  \n",
              "39517   “Surreal\" won out over \"puppy,” “flummadiddle,...  \n",
              "18634   “The bombing was long, leisurely and merciless...  \n",
              "18900   By Xinxin Zhang, Research Intern, East-West Ce...  \n",
              "88345                                                      \n",
              "62054        Bet you never knew how Burberry struck gold.  \n",
              "66784   New York Mets relief pitcher Jenrry Mejia has ...  \n",
              "73038   At least some of the arrests took place at the...  \n",
              "52487   Oakland's law targets pregnancy clinics that o...  \n",
              "111907                                                     \n",
              "64576    The progressive movement faces its biggest test.  \n",
              "39143   \"When the next Ebola outbreak hits, we will no...  \n",
              "87400                                                      \n",
              "32935             \"Guys, seriously, do you have amnesia?\"  \n",
              "48774   Temporarily not wearing white isn't enough for...  \n",
              "17443   \"To place him next to the brave men and women ...  \n",
              "114621                                                     \n",
              "87370                                                      \n",
              "119406  We all venture into the dating world hoping th...  \n",
              "117313  1. Put in writing what type of relationship yo...  \n",
              "95992   You told the panel that they changed your life...  \n",
              "3400    When your idealism isn't \"broken yet,\" you spe...  \n",
              "96289                                                      \n",
              "91428   Qi recounts three stories of students making t...  \n",
              "29215   The tragedy occurred in driveway of his Arizon...  \n",
              "49611   But on other gun policy questions, the gaps ke...  \n",
              "53475   So many (23, to be exact) noms for this amazin...  \n",
              "79857   \"We don’t impose rules on people -- the vibe i...  \n",
              "...                                                   ...  \n",
              "72907   \"This was a person who was successful, who had...  \n",
              "102621                                                     \n",
              "108212  Clapton was God to some--or so the graffiti sa...  \n",
              "94707   The vast majority of Americans clearly seem un...  \n",
              "54325              Grief sneaks out during tired moments.  \n",
              "21837                                           Bow down.  \n",
              "102087                                                     \n",
              "101670                                                     \n",
              "44538   \"It stands as a testament to the lack of diver...  \n",
              "50770                                           Sad beep.  \n",
              "50828   A court said they are without authority to wip...  \n",
              "109132                                                     \n",
              "65178   Others are resigned to his victory -- and are ...  \n",
              "17870   The Finnish president had to explain that they...  \n",
              "50296   The Republican nominee should be polling bette...  \n",
              "2924    The project reportedly received the blessing o...  \n",
              "80415   In my early childhood photos I look like a hea...  \n",
              "16535   Jemele Hill, the ESPN host of SportsCenter’s “...  \n",
              "93889                                                      \n",
              "119723  A recent study of more than a thousand doctors...  \n",
              "3827    The publisher of Texas' Olton Enterprise said ...  \n",
              "14693   This could be the key for Democrats to win bac...  \n",
              "58342              Elegant technology has a long history.  \n",
              "124933                                                     \n",
              "19126   \"These terrorists aren't trolls -- they're ter...  \n",
              "57926   Ollie, a 10-year-old Shetland sheepdog (aka Sh...  \n",
              "86604   There is a series of mental events that lead t...  \n",
              "36765      Police say a harassment report has been filed.  \n",
              "56098                  There's no place like home, right?  \n",
              "52090   Behind the scenes at the Democratic National C...  \n",
              "\n",
              "[100 rows x 6 columns]"
            ]
          },
          "execution_count": 5,
          "metadata": {},
          "output_type": "execute_result"
        }
      ],
      "source": [
        "df.sample(100)"
      ]
    },
    {
      "cell_type": "markdown",
      "metadata": {
        "id": "ZajE2tv-kIBg"
      },
      "source": [
        "## Date range\n",
        "Articles are between July 2014 and July 2018"
      ]
    },
    {
      "cell_type": "code",
      "execution_count": 15,
      "metadata": {
        "id": "K1F--LMpkIBg",
        "outputId": "fa8ab86c-b784-4d79-d8b4-7865559bffba",
        "colab": {
          "base_uri": "https://localhost:8080/",
          "height": 386
        }
      },
      "outputs": [
        {
          "output_type": "execute_result",
          "data": {
            "text/plain": [
              "<Axes: >"
            ]
          },
          "metadata": {},
          "execution_count": 15
        },
        {
          "output_type": "display_data",
          "data": {
            "text/plain": [
              "<Figure size 1200x600 with 1 Axes>"
            ],
            "image/png": "[encoded data removed]"
          },
          "metadata": {}
        }
      ],
      "source": [
        "df.date.hist(figsize=(12,6),color='teal',)\n"
      ]
    },
    {
      "cell_type": "markdown",
      "metadata": {
        "id": "-M2yekDWkIBg"
      },
      "source": [
        "## Category Distribution\n",
        "\n",
        "### Number of categories"
      ]
    },
    {
      "cell_type": "code",
      "execution_count": 16,
      "metadata": {
        "id": "8TC6rrSjkIBg",
        "outputId": "13622d88-5ed3-4c87-8945-6d4cc8bf6406",
        "colab": {
          "base_uri": "https://localhost:8080/"
        }
      },
      "outputs": [
        {
          "output_type": "execute_result",
          "data": {
            "text/plain": [
              "31"
            ]
          },
          "metadata": {},
          "execution_count": 16
        }
      ],
      "source": [
        "len(set(df['category'].values))"
      ]
    },
    {
      "cell_type": "markdown",
      "metadata": {
        "id": "-270tAevkIBg"
      },
      "source": [
        "### Category by count\n",
        "\n",
        "Most of the articles are related to politics. Education related articles have the lowest volume."
      ]
    },
    {
      "cell_type": "code",
      "execution_count": 17,
      "metadata": {
        "id": "lbC6Jv0KkIBh",
        "outputId": "862daa3b-1cfc-4b54-8937-040414d2176e",
        "colab": {
          "base_uri": "https://localhost:8080/",
          "height": 574
        }
      },
      "outputs": [
        {
          "output_type": "execute_result",
          "data": {
            "text/plain": [
              "<Axes: xlabel='category'>"
            ]
          },
          "metadata": {},
          "execution_count": 17
        },
        {
          "output_type": "display_data",
          "data": {
            "text/plain": [
              "<Figure size 640x480 with 1 Axes>"
            ],
            "image/png": "[encoded data removed]"
          },
          "metadata": {}
        }
      ],
      "source": [
        "df['category'].value_counts().plot(kind='bar')"
      ]
    },
    {
      "cell_type": "markdown",
      "metadata": {
        "id": "vwyINfkpkIBh"
      },
      "source": [
        "## Texts for Classification\n",
        "\n",
        "These are some of the fields we can use for the classification task. We create 3 different versions."
      ]
    },
    {
      "cell_type": "code",
      "execution_count": 18,
      "metadata": {
        "id": "jL-5oHTvkIBh"
      },
      "outputs": [],
      "source": [
        "import re\n",
        "\n",
        "def tokenize_url(url:str):\n",
        "    url=url.replace(\"https://www.huffingtonpost.com/entry/\",\"\")\n",
        "    url=re.sub(\"(\\W|_)+\",\" \",url)\n",
        "    return url\n",
        "\n",
        "df['tokenized_url']=df['link'].apply(lambda x:tokenize_url(x))\n",
        "\n",
        "#just the description\n",
        "df['text_desc'] = df['short_description']\n",
        "\n",
        "#description + headline\n",
        "df['text_desc_headline'] = df['short_description'] + ' '+ df['headline']\n",
        "\n",
        "#description + headline + tokenized url\n",
        "df['text_desc_headline_url'] = df['short_description'] + ' '+ df['headline']+\" \" + df['tokenized_url']\n"
      ]
    },
    {
      "cell_type": "code",
      "execution_count": 19,
      "metadata": {
        "id": "uG6SPoD0kIBh"
      },
      "outputs": [],
      "source": [
        "def _reciprocal_rank(true_labels: list, machine_preds: list):\n",
        "    \"\"\"Compute the reciprocal rank at cutoff k\"\"\"\n",
        "\n",
        "    # add index to list only if machine predicted label exists in true labels\n",
        "    tp_pos_list = [(idx + 1) for idx, r in enumerate(machine_preds) if r in true_labels]\n",
        "\n",
        "    rr = 0\n",
        "    if len(tp_pos_list) > 0:\n",
        "        # for RR we need position of first correct item\n",
        "        first_pos_list = tp_pos_list[0]\n",
        "\n",
        "        # rr = 1/rank\n",
        "        rr = 1 / float(first_pos_list)\n",
        "\n",
        "    return rr\n",
        "\n",
        "def compute_mrr_at_k(items:list):\n",
        "    \"\"\"Compute the MRR (average RR) at cutoff k\"\"\"\n",
        "    rr_total = 0\n",
        "\n",
        "    for item in items:\n",
        "        rr_at_k = _reciprocal_rank(item[0],item[1])\n",
        "        rr_total = rr_total + rr_at_k\n",
        "        mrr = rr_total / 1/float(len(items))\n",
        "\n",
        "    return mrr\n",
        "\n",
        "def collect_preds(Y_test,Y_preds):\n",
        "    \"\"\"Collect all predictions and ground truth\"\"\"\n",
        "\n",
        "    pred_gold_list=[[[Y_test[idx]],pred] for idx,pred in enumerate(Y_preds)]\n",
        "    return pred_gold_list\n",
        "\n",
        "def compute_accuracy(eval_items:list):\n",
        "    correct=0\n",
        "    total=0\n",
        "\n",
        "    for item in eval_items:\n",
        "        true_pred=item[0]\n",
        "        machine_pred=set(item[1])\n",
        "\n",
        "        for cat in true_pred:\n",
        "            if cat in machine_pred:\n",
        "                correct+=1\n",
        "                break\n",
        "\n",
        "\n",
        "    accuracy=correct/float(len(eval_items))\n",
        "    return accuracy\n"
      ]
    },
    {
      "cell_type": "code",
      "execution_count": 20,
      "metadata": {
        "id": "QGxdZkajkIBh"
      },
      "outputs": [],
      "source": [
        "from sklearn.metrics import precision_recall_fscore_support\n",
        "from sklearn.model_selection import train_test_split\n",
        "from sklearn.linear_model import LogisticRegression\n",
        "from sklearn.feature_extraction.text import CountVectorizer,TfidfVectorizer\n",
        "\n",
        "import numpy as np\n",
        "import logging\n",
        "\n",
        "logging.basicConfig(format='%(asctime)s : %(levelname)s : %(message)s', level=logging.INFO)\n",
        "\n",
        "def extract_features(df,field,training_data,testing_data,type=\"binary\"):\n",
        "    \"\"\"Extract features using different methods\"\"\"\n",
        "\n",
        "    logging.info(\"Extracting features and creating vocabulary...\")\n",
        "\n",
        "    if \"binary\" in type:\n",
        "\n",
        "        # BINARY FEATURE REPRESENTATION\n",
        "        cv= CountVectorizer(binary=True, max_df=0.95)\n",
        "        cv.fit_transform(training_data[field].values)\n",
        "\n",
        "        train_feature_set=cv.transform(training_data[field].values)\n",
        "        test_feature_set=cv.transform(testing_data[field].values)\n",
        "\n",
        "        return train_feature_set,test_feature_set,cv\n",
        "\n",
        "    elif \"counts\" in type:\n",
        "\n",
        "        # COUNT BASED FEATURE REPRESENTATION\n",
        "        cv= CountVectorizer(binary=False, max_df=0.95)\n",
        "        cv.fit_transform(training_data[field].values)\n",
        "\n",
        "        train_feature_set=cv.transform(training_data[field].values)\n",
        "        test_feature_set=cv.transform(testing_data[field].values)\n",
        "\n",
        "        return train_feature_set,test_feature_set,cv\n",
        "\n",
        "    else:\n",
        "\n",
        "        # TF-IDF BASED FEATURE REPRESENTATION\n",
        "        tfidf_vectorizer=TfidfVectorizer(use_idf=True, max_df=0.95)\n",
        "        tfidf_vectorizer.fit_transform(training_data[field].values)\n",
        "\n",
        "        train_feature_set=tfidf_vectorizer.transform(training_data[field].values)\n",
        "        test_feature_set=tfidf_vectorizer.transform(testing_data[field].values)\n",
        "\n",
        "        return train_feature_set,test_feature_set,tfidf_vectorizer\n",
        "\n",
        "def get_top_k_predictions(model,X_test,k):\n",
        "\n",
        "    # get probabilities instead of predicted labels, since we want to collect top 3\n",
        "    probs = model.predict_proba(X_test)\n",
        "\n",
        "    # GET TOP K PREDICTIONS BY PROB - note these are just index\n",
        "    best_n = np.argsort(probs, axis=1)[:,-k:]\n",
        "\n",
        "    # GET CATEGORY OF PREDICTIONS\n",
        "    preds=[[model.classes_[predicted_cat] for predicted_cat in prediction] for prediction in best_n]\n",
        "\n",
        "    preds=[ item[::-1] for item in preds]\n",
        "\n",
        "    return preds\n",
        "\n",
        "\n",
        "def train_model(df,field=\"text_desc\",feature_rep=\"binary\",top_k=3):\n",
        "\n",
        "    logging.info(\"Starting model training...\")\n",
        "\n",
        "    # GET A TRAIN TEST SPLIT (set seed for consistent results)\n",
        "    training_data, testing_data = train_test_split(df,random_state = 2000,)\n",
        "\n",
        "    # GET LABELS\n",
        "    Y_train=training_data['category'].values\n",
        "    Y_test=testing_data['category'].values\n",
        "\n",
        "    # GET FEATURES\n",
        "    X_train,X_test,feature_transformer=extract_features(df,field,training_data,testing_data,type=feature_rep)\n",
        "\n",
        "    # INIT LOGISTIC REGRESSION CLASSIFIER\n",
        "    logging.info(\"Training a Logistic Regression Model...\")\n",
        "    scikit_log_reg = LogisticRegression(verbose=1, solver='liblinear',random_state=0, C=5, penalty='l2',max_iter=1000)\n",
        "    model=scikit_log_reg.fit(X_train,Y_train)\n",
        "\n",
        "    # GET TOP K PREDICTIONS\n",
        "    preds=get_top_k_predictions(model,X_test,top_k)\n",
        "\n",
        "    # GET PREDICTED VALUES AND GROUND TRUTH INTO A LIST OF LISTS - for ease of evaluation\n",
        "    eval_items=collect_preds(Y_test,preds)\n",
        "\n",
        "    # GET EVALUATION NUMBERS ON TEST SET -- HOW DID WE DO?\n",
        "    logging.info(\"Starting evaluation...\")\n",
        "    accuracy=compute_accuracy(eval_items)\n",
        "    mrr_at_k=compute_mrr_at_k(eval_items)\n",
        "\n",
        "    logging.info(\"Done training and evaluation.\")\n",
        "\n",
        "    return model,feature_transformer,accuracy,mrr_at_k\n"
      ]
    },
    {
      "cell_type": "markdown",
      "metadata": {
        "id": "cvKzmRV9kIBi"
      },
      "source": [
        "## Train a Single Model"
      ]
    },
    {
      "cell_type": "markdown",
      "metadata": {
        "id": "OCswLyFNkIBi"
      },
      "source": [
        "### Model  - 1  (binary features with description only)"
      ]
    },
    {
      "cell_type": "code",
      "execution_count": 21,
      "metadata": {
        "id": "ETM6F_uakIBi",
        "outputId": "c90b5b34-5b17-4e62-a897-c6513357c5e8",
        "colab": {
          "base_uri": "https://localhost:8080/"
        }
      },
      "outputs": [
        {
          "output_type": "stream",
          "name": "stdout",
          "text": [
            "[LibLinear]\n",
            "Accuracy=0.5980862775217614; MRR=0.480516086362876\n"
          ]
        }
      ],
      "source": [
        "field='text_desc'\n",
        "feature_rep='binary'\n",
        "top_k=3\n",
        "\n",
        "model,transformer,accuracy,mrr_at_k=train_model(df,field=field,feature_rep=feature_rep,top_k=top_k)\n",
        "print(\"\\nAccuracy={0}; MRR={1}\".format(accuracy,mrr_at_k))"
      ]
    },
    {
      "cell_type": "markdown",
      "metadata": {
        "id": "tmhH30cHkIBi"
      },
      "source": [
        "### Model - 2 (tfidf features with description only)"
      ]
    },
    {
      "cell_type": "code",
      "execution_count": 22,
      "metadata": {
        "id": "keyMpEChkIBi",
        "outputId": "b0194d5f-e6cc-4b81-d4d7-f2aed21246d8",
        "colab": {
          "base_uri": "https://localhost:8080/"
        }
      },
      "outputs": [
        {
          "output_type": "stream",
          "name": "stdout",
          "text": [
            "[LibLinear]\n",
            "Accuracy=0.6306643625192012; MRR=0.5108326932923889\n"
          ]
        }
      ],
      "source": [
        "field='text_desc'\n",
        "feature_rep='tfidf'\n",
        "top_k=3\n",
        "\n",
        "model,transformer,accuracy,mrr_at_k=train_model(df,field=field,feature_rep=feature_rep,top_k=top_k)\n",
        "print(\"\\nAccuracy={0}; MRR={1}\".format(accuracy,mrr_at_k))"
      ]
    },
    {
      "cell_type": "markdown",
      "metadata": {
        "id": "UMLcbA7kkIBi"
      },
      "source": [
        "### Model - 3 (tfidf features with description, headline, url)"
      ]
    },
    {
      "cell_type": "code",
      "execution_count": 23,
      "metadata": {
        "id": "T-UAiP-AkIBi",
        "outputId": "7e53b4c1-d73e-4f29-aaf9-768cf7de6d94",
        "colab": {
          "base_uri": "https://localhost:8080/"
        }
      },
      "outputs": [
        {
          "output_type": "stream",
          "name": "stdout",
          "text": [
            "[LibLinear]\n",
            "Accuracy=0.8672875064004096; MRR=0.7511734084314612\n"
          ]
        }
      ],
      "source": [
        "field='text_desc_headline_url'\n",
        "feature_rep='tfidf'\n",
        "top_k=3\n",
        "\n",
        "model,transformer,accuracy,mrr_at_k=train_model(df,field=field,feature_rep=feature_rep,top_k=top_k)\n",
        "print(\"\\nAccuracy={0}; MRR={1}\".format(accuracy,mrr_at_k))"
      ]
    },
    {
      "cell_type": "markdown",
      "metadata": {
        "id": "Abg-v1mukIBi"
      },
      "source": [
        "## Check Predictions on Unseen Articles from CNN (not HuffPost our training data)"
      ]
    },
    {
      "cell_type": "code",
      "execution_count": 24,
      "metadata": {
        "id": "BAVaVE2fkIBi",
        "outputId": "f39d1040-80e1-4a87-ad72-40b1fa12eb9d",
        "colab": {
          "base_uri": "https://localhost:8080/"
        }
      },
      "outputs": [
        {
          "output_type": "execute_result",
          "data": {
            "text/plain": [
              "[['POLITICS', 'CRIME']]"
            ]
          },
          "metadata": {},
          "execution_count": 24
        }
      ],
      "source": [
        "# https://www.cnn.com/2019/07/19/politics/george-nader-child-porn-sex-charges/index.html\n",
        "test_features=transformer.transform([\"George Aref Nader, who was a key witness in special counsel Robert Mueller's Russia investigation, faces new charges of transporting a minor with intent to engage in criminal sexual activity and child pornography\"])\n",
        "get_top_k_predictions(model,test_features,2)"
      ]
    },
    {
      "cell_type": "code",
      "execution_count": 25,
      "metadata": {
        "id": "yROfpYaMkIBj",
        "outputId": "2ff2e5ac-fee0-42d9-e275-d60876d2ff83",
        "colab": {
          "base_uri": "https://localhost:8080/"
        }
      },
      "outputs": [
        {
          "output_type": "execute_result",
          "data": {
            "text/plain": [
              "[['ENTERTAINMENT', 'STYLE']]"
            ]
          },
          "metadata": {},
          "execution_count": 25
        }
      ],
      "source": [
        "# https://www.cnn.com/2019/07/18/entertainment/khloe-kardashian-true-thompson-video-trnd/index.html\n",
        "test_features=transformer.transform([\"True Thompson makes an adorable cameo in Khloe Kardashian's new makeup tutorial video\"])\n",
        "model.predict(test_features)\n",
        "get_top_k_predictions(model,test_features,2)"
      ]
    },
    {
      "cell_type": "code",
      "execution_count": 26,
      "metadata": {
        "id": "8Qh1ySTmkIBj",
        "outputId": "d9017cd3-8029-4dcf-96d0-9403ecf45e8f",
        "colab": {
          "base_uri": "https://localhost:8080/"
        }
      },
      "outputs": [
        {
          "output_type": "execute_result",
          "data": {
            "text/plain": [
              "[['ENTERTAINMENT', 'STYLE']]"
            ]
          },
          "metadata": {},
          "execution_count": 26
        }
      ],
      "source": [
        "# https://www.cnn.com/2019/07/12/entertainment/heidi-klum-tom-kaulitz/\n",
        "test_features=transformer.transform([\"Heidi Klum is apparently the latest celeb to get married and not tell us\"])\n",
        "get_top_k_predictions(model,test_features,2)"
      ]
    },
    {
      "cell_type": "code",
      "execution_count": 27,
      "metadata": {
        "id": "iFZSVSNGkIBj",
        "outputId": "1b6f2a13-09b8-4853-97f4-2ab4fbfd7634",
        "colab": {
          "base_uri": "https://localhost:8080/"
        }
      },
      "outputs": [
        {
          "output_type": "execute_result",
          "data": {
            "text/plain": [
              "[['BUSINESS', 'POLITICS']]"
            ]
          },
          "metadata": {},
          "execution_count": 27
        }
      ],
      "source": [
        "# https://www.cnn.com/2019/07/19/investing/dow-stock-market-today/index.html\n",
        "test_features=transformer.transform([\"Stocks end lower as geopolitical fears rise. The Dow and US markets closed lower on Friday, as geopolitical worries overshadowed the hopes of interest rate cuts by the Federal Reserve.\"])\n",
        "get_top_k_predictions(model,test_features,2)"
      ]
    },
    {
      "cell_type": "code",
      "execution_count": 28,
      "metadata": {
        "id": "Y0L6PpTKkIBj",
        "outputId": "60204e88-277c-40ae-b856-19f28c85e0b6",
        "colab": {
          "base_uri": "https://localhost:8080/"
        }
      },
      "outputs": [
        {
          "output_type": "execute_result",
          "data": {
            "text/plain": [
              "[['SCIENCE', 'HEALTHY LIVING']]"
            ]
          },
          "metadata": {},
          "execution_count": 28
        }
      ],
      "source": [
        "# https://www.cnn.com/2019/07/19/health/astronaut-exercise-iv-faint-scn/index.html\n",
        "test_features=transformer.transform([\"Exercise in space keeps astronauts from fainting when they return to Earth, study says. \"])\n",
        "get_top_k_predictions(model,test_features,2)"
      ]
    },
    {
      "cell_type": "markdown",
      "metadata": {
        "id": "fMwDy3htkIBj"
      },
      "source": [
        "## Train Different Types of Models"
      ]
    },
    {
      "cell_type": "code",
      "execution_count": null,
      "metadata": {
        "id": "Cf9FfdoHkIBj",
        "outputId": "0f40460f-f04a-4e4b-bb64-38e698766bad",
        "colab": {
          "base_uri": "https://localhost:8080/"
        }
      },
      "outputs": [
        {
          "output_type": "stream",
          "name": "stdout",
          "text": [
            "[LibLinear][LibLinear][LibLinear][LibLinear][LibLinear][LibLinear][LibLinear]"
          ]
        }
      ],
      "source": [
        "feature_reps=['binary','counts','tfidf']\n",
        "fields=['text_desc','text_desc_headline','text_desc_headline_url']\n",
        "top_ks=[3]\n",
        "\n",
        "results=[]\n",
        "for field in fields:\n",
        "    for feature_rep in feature_reps:\n",
        "        for top_k in top_ks:\n",
        "            model,transformer,acc,mrr_at_k=train_model(df,field=field,feature_rep=feature_rep,top_k=top_k)\n",
        "            results.append([field,feature_rep,top_k,acc,mrr_at_k])"
      ]
    },
    {
      "cell_type": "markdown",
      "metadata": {
        "id": "37KqQoCikIBj"
      },
      "source": [
        "### Results of Various Models"
      ]
    },
    {
      "cell_type": "code",
      "execution_count": null,
      "metadata": {
        "id": "rtqFQVMHkIBj",
        "outputId": "f9b6a986-7dfb-4678-a47d-4edd86f80d31"
      },
      "outputs": [
        {
          "data": {
            "text/html": [
              "<div>\n",
              "<style scoped>\n",
              "    .dataframe tbody tr th:only-of-type {\n",
              "        vertical-align: middle;\n",
              "    }\n",
              "\n",
              "    .dataframe tbody tr th {\n",
              "        vertical-align: top;\n",
              "    }\n",
              "\n",
              "    .dataframe thead th {\n",
              "        text-align: right;\n",
              "    }\n",
              "</style>\n",
              "<table border=\"1\" class=\"dataframe\">\n",
              "  <thead>\n",
              "    <tr style=\"text-align: right;\">\n",
              "      <th></th>\n",
              "      <th>text_fields</th>\n",
              "      <th>feature_representation</th>\n",
              "      <th>top_k</th>\n",
              "      <th>accuracy</th>\n",
              "      <th>mrr_at_k</th>\n",
              "    </tr>\n",
              "  </thead>\n",
              "  <tbody>\n",
              "    <tr>\n",
              "      <th>8</th>\n",
              "      <td>text_desc_headline_url</td>\n",
              "      <td>tfidf</td>\n",
              "      <td>3</td>\n",
              "      <td>0.867256</td>\n",
              "      <td>0.751152</td>\n",
              "    </tr>\n",
              "    <tr>\n",
              "      <th>6</th>\n",
              "      <td>text_desc_headline_url</td>\n",
              "      <td>binary</td>\n",
              "      <td>3</td>\n",
              "      <td>0.830165</td>\n",
              "      <td>0.715587</td>\n",
              "    </tr>\n",
              "    <tr>\n",
              "      <th>7</th>\n",
              "      <td>text_desc_headline_url</td>\n",
              "      <td>counts</td>\n",
              "      <td>3</td>\n",
              "      <td>0.829653</td>\n",
              "      <td>0.718131</td>\n",
              "    </tr>\n",
              "    <tr>\n",
              "      <th>5</th>\n",
              "      <td>text_desc_headline</td>\n",
              "      <td>tfidf</td>\n",
              "      <td>3</td>\n",
              "      <td>0.835925</td>\n",
              "      <td>0.717171</td>\n",
              "    </tr>\n",
              "    <tr>\n",
              "      <th>3</th>\n",
              "      <td>text_desc_headline</td>\n",
              "      <td>binary</td>\n",
              "      <td>3</td>\n",
              "      <td>0.794675</td>\n",
              "      <td>0.679169</td>\n",
              "    </tr>\n",
              "    <tr>\n",
              "      <th>4</th>\n",
              "      <td>text_desc_headline</td>\n",
              "      <td>counts</td>\n",
              "      <td>3</td>\n",
              "      <td>0.792179</td>\n",
              "      <td>0.677894</td>\n",
              "    </tr>\n",
              "    <tr>\n",
              "      <th>2</th>\n",
              "      <td>text_desc</td>\n",
              "      <td>tfidf</td>\n",
              "      <td>3</td>\n",
              "      <td>0.630632</td>\n",
              "      <td>0.510838</td>\n",
              "    </tr>\n",
              "    <tr>\n",
              "      <th>0</th>\n",
              "      <td>text_desc</td>\n",
              "      <td>binary</td>\n",
              "      <td>3</td>\n",
              "      <td>0.598054</td>\n",
              "      <td>0.480489</td>\n",
              "    </tr>\n",
              "    <tr>\n",
              "      <th>1</th>\n",
              "      <td>text_desc</td>\n",
              "      <td>counts</td>\n",
              "      <td>3</td>\n",
              "      <td>0.595526</td>\n",
              "      <td>0.478436</td>\n",
              "    </tr>\n",
              "  </tbody>\n",
              "</table>\n",
              "</div>"
            ],
            "text/plain": [
              "              text_fields feature_representation  top_k  accuracy  mrr_at_k\n",
              "8  text_desc_headline_url                  tfidf      3  0.867256  0.751152\n",
              "6  text_desc_headline_url                 binary      3  0.830165  0.715587\n",
              "7  text_desc_headline_url                 counts      3  0.829653  0.718131\n",
              "5      text_desc_headline                  tfidf      3  0.835925  0.717171\n",
              "3      text_desc_headline                 binary      3  0.794675  0.679169\n",
              "4      text_desc_headline                 counts      3  0.792179  0.677894\n",
              "2               text_desc                  tfidf      3  0.630632  0.510838\n",
              "0               text_desc                 binary      3  0.598054  0.480489\n",
              "1               text_desc                 counts      3  0.595526  0.478436"
            ]
          },
          "execution_count": 21,
          "metadata": {},
          "output_type": "execute_result"
        }
      ],
      "source": [
        "df_results=pd.DataFrame(results,columns=['text_fields','feature_representation','top_k','accuracy','mrr_at_k'])\n",
        "df_results.sort_values(by=['text_fields','accuracy'],ascending=False)"
      ]
    },
    {
      "cell_type": "markdown",
      "metadata": {
        "id": "qN001O1SkIBj"
      },
      "source": [
        "## Save Model for Future Use\n"
      ]
    },
    {
      "cell_type": "code",
      "execution_count": null,
      "metadata": {
        "id": "8I37FQgKkIBj"
      },
      "outputs": [],
      "source": [
        "import pickle\n",
        "\n",
        "model_path=\"../models/model.pkl\"\n",
        "transformer_path=\"../models/transformer.pkl\"\n",
        "\n",
        "# we need to save both the transformer -> to encode a document and the model itself to make predictions based on the weight vectors\n",
        "pickle.dump(model,open(model_path, 'wb'))\n",
        "pickle.dump(transformer,open(transformer_path,'wb'))\n"
      ]
    },
    {
      "cell_type": "markdown",
      "metadata": {
        "id": "cU0Cn2frkIBj"
      },
      "source": [
        "## Use Loaded Model"
      ]
    },
    {
      "cell_type": "code",
      "execution_count": null,
      "metadata": {
        "id": "kY6JnEWSkIBj",
        "outputId": "230d3a26-860a-41bf-c136-37b5a57c2d55"
      },
      "outputs": [
        {
          "data": {
            "text/plain": [
              "[['POLITICS', 'THE WORLDPOST']]"
            ]
          },
          "execution_count": 44,
          "metadata": {},
          "output_type": "execute_result"
        }
      ],
      "source": [
        "loaded_model = pickle.load(open(model_path, 'rb'))\n",
        "loaded_transformer = pickle.load(open(transformer_path, 'rb'))\n",
        "\n",
        "\n",
        "test_features=loaded_transformer.transform([\"President Trump AND THE impeachment story !!!\"])\n",
        "get_top_k_predictions(loaded_model,test_features,2)\n"
      ]
    },
    {
      "cell_type": "code",
      "execution_count": null,
      "metadata": {
        "id": "tfarhwzzkIBk"
      },
      "outputs": [],
      "source": []
    }
  ],
  "metadata": {
    "kernelspec": {
      "display_name": "Python 3",
      "language": "python",
      "name": "python3"
    },
    "language_info": {
      "codemirror_mode": {
        "name": "ipython",
        "version": 3
      },
      "file_extension": ".py",
      "mimetype": "text/x-python",
      "name": "python",
      "nbconvert_exporter": "python",
      "pygments_lexer": "ipython3",
      "version": "3.6.5"
    },
    "colab": {
      "provenance": []
    }
  },
  "nbformat": 4,
  "nbformat_minor": 0
}