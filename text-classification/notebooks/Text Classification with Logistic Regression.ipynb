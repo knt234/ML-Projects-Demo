{
  "cells": [
    {
      "cell_type": "markdown",
      "metadata": {
        "id": "zHNt1oRWkIBb"
      },
      "source": [
        "## Read Data"
      ]
    },
    {
      "cell_type": "code",
      "execution_count": 9,
      "metadata": {
        "colab": {
          "base_uri": "https://localhost:8080/",
          "height": 73
        },
        "id": "lMt3KIdfkIBd",
        "outputId": "cced6b32-6046-42fc-a74a-edf444a61b99"
      },
      "outputs": [
        {
          "output_type": "display_data",
          "data": {
            "text/plain": [
              "<IPython.core.display.HTML object>"
            ],
            "text/html": [
              "\n",
              "     <input type=\"file\" id=\"files-1c4918e4-5911-4c16-9046-d6a67722a3f0\" name=\"files[]\" multiple disabled\n",
              "        style=\"border:none\" />\n",
              "     <output id=\"result-1c4918e4-5911-4c16-9046-d6a67722a3f0\">\n",
              "      Upload widget is only available when the cell has been executed in the\n",
              "      current browser session. Please rerun this cell to enable.\n",
              "      </output>\n",
              "      <script>// Copyright 2017 Google LLC\n",
              "//\n",
              "// Licensed under the Apache License, Version 2.0 (the \"License\");\n",
              "// you may not use this file except in compliance with the License.\n",
              "// You may obtain a copy of the License at\n",
              "//\n",
              "//      http://www.apache.org/licenses/LICENSE-2.0\n",
              "//\n",
              "// Unless required by applicable law or agreed to in writing, software\n",
              "// distributed under the License is distributed on an \"AS IS\" BASIS,\n",
              "// WITHOUT WARRANTIES OR CONDITIONS OF ANY KIND, either express or implied.\n",
              "// See the License for the specific language governing permissions and\n",
              "// limitations under the License.\n",
              "\n",
              "/**\n",
              " * @fileoverview Helpers for google.colab Python module.\n",
              " */\n",
              "(function(scope) {\n",
              "function span(text, styleAttributes = {}) {\n",
              "  const element = document.createElement('span');\n",
              "  element.textContent = text;\n",
              "  for (const key of Object.keys(styleAttributes)) {\n",
              "    element.style[key] = styleAttributes[key];\n",
              "  }\n",
              "  return element;\n",
              "}\n",
              "\n",
              "// Max number of bytes which will be uploaded at a time.\n",
              "const MAX_PAYLOAD_SIZE = 100 * 1024;\n",
              "\n",
              "function _uploadFiles(inputId, outputId) {\n",
              "  const steps = uploadFilesStep(inputId, outputId);\n",
              "  const outputElement = document.getElementById(outputId);\n",
              "  // Cache steps on the outputElement to make it available for the next call\n",
              "  // to uploadFilesContinue from Python.\n",
              "  outputElement.steps = steps;\n",
              "\n",
              "  return _uploadFilesContinue(outputId);\n",
              "}\n",
              "\n",
              "// This is roughly an async generator (not supported in the browser yet),\n",
              "// where there are multiple asynchronous steps and the Python side is going\n",
              "// to poll for completion of each step.\n",
              "// This uses a Promise to block the python side on completion of each step,\n",
              "// then passes the result of the previous step as the input to the next step.\n",
              "function _uploadFilesContinue(outputId) {\n",
              "  const outputElement = document.getElementById(outputId);\n",
              "  const steps = outputElement.steps;\n",
              "\n",
              "  const next = steps.next(outputElement.lastPromiseValue);\n",
              "  return Promise.resolve(next.value.promise).then((value) => {\n",
              "    // Cache the last promise value to make it available to the next\n",
              "    // step of the generator.\n",
              "    outputElement.lastPromiseValue = value;\n",
              "    return next.value.response;\n",
              "  });\n",
              "}\n",
              "\n",
              "/**\n",
              " * Generator function which is called between each async step of the upload\n",
              " * process.\n",
              " * @param {string} inputId Element ID of the input file picker element.\n",
              " * @param {string} outputId Element ID of the output display.\n",
              " * @return {!Iterable<!Object>} Iterable of next steps.\n",
              " */\n",
              "function* uploadFilesStep(inputId, outputId) {\n",
              "  const inputElement = document.getElementById(inputId);\n",
              "  inputElement.disabled = false;\n",
              "\n",
              "  const outputElement = document.getElementById(outputId);\n",
              "  outputElement.innerHTML = '';\n",
              "\n",
              "  const pickedPromise = new Promise((resolve) => {\n",
              "    inputElement.addEventListener('change', (e) => {\n",
              "      resolve(e.target.files);\n",
              "    });\n",
              "  });\n",
              "\n",
              "  const cancel = document.createElement('button');\n",
              "  inputElement.parentElement.appendChild(cancel);\n",
              "  cancel.textContent = 'Cancel upload';\n",
              "  const cancelPromise = new Promise((resolve) => {\n",
              "    cancel.onclick = () => {\n",
              "      resolve(null);\n",
              "    };\n",
              "  });\n",
              "\n",
              "  // Wait for the user to pick the files.\n",
              "  const files = yield {\n",
              "    promise: Promise.race([pickedPromise, cancelPromise]),\n",
              "    response: {\n",
              "      action: 'starting',\n",
              "    }\n",
              "  };\n",
              "\n",
              "  cancel.remove();\n",
              "\n",
              "  // Disable the input element since further picks are not allowed.\n",
              "  inputElement.disabled = true;\n",
              "\n",
              "  if (!files) {\n",
              "    return {\n",
              "      response: {\n",
              "        action: 'complete',\n",
              "      }\n",
              "    };\n",
              "  }\n",
              "\n",
              "  for (const file of files) {\n",
              "    const li = document.createElement('li');\n",
              "    li.append(span(file.name, {fontWeight: 'bold'}));\n",
              "    li.append(span(\n",
              "        `(${file.type || 'n/a'}) - ${file.size} bytes, ` +\n",
              "        `last modified: ${\n",
              "            file.lastModifiedDate ? file.lastModifiedDate.toLocaleDateString() :\n",
              "                                    'n/a'} - `));\n",
              "    const percent = span('0% done');\n",
              "    li.appendChild(percent);\n",
              "\n",
              "    outputElement.appendChild(li);\n",
              "\n",
              "    const fileDataPromise = new Promise((resolve) => {\n",
              "      const reader = new FileReader();\n",
              "      reader.onload = (e) => {\n",
              "        resolve(e.target.result);\n",
              "      };\n",
              "      reader.readAsArrayBuffer(file);\n",
              "    });\n",
              "    // Wait for the data to be ready.\n",
              "    let fileData = yield {\n",
              "      promise: fileDataPromise,\n",
              "      response: {\n",
              "        action: 'continue',\n",
              "      }\n",
              "    };\n",
              "\n",
              "    // Use a chunked sending to avoid message size limits. See b/62115660.\n",
              "    let position = 0;\n",
              "    do {\n",
              "      const length = Math.min(fileData.byteLength - position, MAX_PAYLOAD_SIZE);\n",
              "      const chunk = new Uint8Array(fileData, position, length);\n",
              "      position += length;\n",
              "\n",
              "      const base64 = btoa(String.fromCharCode.apply(null, chunk));\n",
              "      yield {\n",
              "        response: {\n",
              "          action: 'append',\n",
              "          file: file.name,\n",
              "          data: base64,\n",
              "        },\n",
              "      };\n",
              "\n",
              "      let percentDone = fileData.byteLength === 0 ?\n",
              "          100 :\n",
              "          Math.round((position / fileData.byteLength) * 100);\n",
              "      percent.textContent = `${percentDone}% done`;\n",
              "\n",
              "    } while (position < fileData.byteLength);\n",
              "  }\n",
              "\n",
              "  // All done.\n",
              "  yield {\n",
              "    response: {\n",
              "      action: 'complete',\n",
              "    }\n",
              "  };\n",
              "}\n",
              "\n",
              "scope.google = scope.google || {};\n",
              "scope.google.colab = scope.google.colab || {};\n",
              "scope.google.colab._files = {\n",
              "  _uploadFiles,\n",
              "  _uploadFilesContinue,\n",
              "};\n",
              "})(self);\n",
              "</script> "
            ]
          },
          "metadata": {}
        },
        {
          "output_type": "stream",
          "name": "stdout",
          "text": [
            "Saving news_category_dataset.json to chunksize=1*1024*1024/news_category_dataset.json\n"
          ]
        }
      ],
      "source": [
        "import pandas as pd\n",
        "from google.colab import files\n",
        "uploaded = files.upload(\"chunksize=1*1024*1024\")\n"
      ]
    },
    {
      "source": [
        "#this assumes one json item per line in json file\n",
        "df = pd.read_json('news_category_dataset.json', lines=True)"
      ],
      "cell_type": "code",
      "metadata": {
        "id": "OKtysVLOmmzH"
      },
      "execution_count": 10,
      "outputs": []
    },
    {
      "cell_type": "code",
      "execution_count": 11,
      "metadata": {
        "colab": {
          "base_uri": "https://localhost:8080/",
          "height": 272
        },
        "id": "-d9kiVcekIBe",
        "outputId": "c88e28cb-aa9f-4d2b-f8f7-79109c0c9330"
      },
      "outputs": [
        {
          "output_type": "execute_result",
          "data": {
            "text/plain": [
              "short_description            object\n",
              "headline                     object\n",
              "date                 datetime64[ns]\n",
              "link                         object\n",
              "authors                      object\n",
              "category                     object\n",
              "dtype: object"
            ],
            "text/html": [
              "<div>\n",
              "<style scoped>\n",
              "    .dataframe tbody tr th:only-of-type {\n",
              "        vertical-align: middle;\n",
              "    }\n",
              "\n",
              "    .dataframe tbody tr th {\n",
              "        vertical-align: top;\n",
              "    }\n",
              "\n",
              "    .dataframe thead th {\n",
              "        text-align: right;\n",
              "    }\n",
              "</style>\n",
              "<table border=\"1\" class=\"dataframe\">\n",
              "  <thead>\n",
              "    <tr style=\"text-align: right;\">\n",
              "      <th></th>\n",
              "      <th>0</th>\n",
              "    </tr>\n",
              "  </thead>\n",
              "  <tbody>\n",
              "    <tr>\n",
              "      <th>short_description</th>\n",
              "      <td>object</td>\n",
              "    </tr>\n",
              "    <tr>\n",
              "      <th>headline</th>\n",
              "      <td>object</td>\n",
              "    </tr>\n",
              "    <tr>\n",
              "      <th>date</th>\n",
              "      <td>datetime64[ns]</td>\n",
              "    </tr>\n",
              "    <tr>\n",
              "      <th>link</th>\n",
              "      <td>object</td>\n",
              "    </tr>\n",
              "    <tr>\n",
              "      <th>authors</th>\n",
              "      <td>object</td>\n",
              "    </tr>\n",
              "    <tr>\n",
              "      <th>category</th>\n",
              "      <td>object</td>\n",
              "    </tr>\n",
              "  </tbody>\n",
              "</table>\n",
              "</div><br><label><b>dtype:</b> object</label>"
            ]
          },
          "metadata": {},
          "execution_count": 11
        }
      ],
      "source": [
        "df.dtypes"
      ]
    },
    {
      "cell_type": "code",
      "execution_count": 12,
      "metadata": {
        "colab": {
          "base_uri": "https://localhost:8080/"
        },
        "id": "2iXgg_IMkIBf",
        "outputId": "bfdc2422-6b66-45c6-d02d-eec6f46b4a6f"
      },
      "outputs": [
        {
          "output_type": "execute_result",
          "data": {
            "text/plain": [
              "124989"
            ]
          },
          "metadata": {},
          "execution_count": 12
        }
      ],
      "source": [
        "#number of rows (datapoints)\n",
        "len(df)"
      ]
    },
    {
      "cell_type": "code",
      "execution_count": 13,
      "metadata": {
        "colab": {
          "base_uri": "https://localhost:8080/",
          "height": 753
        },
        "id": "4qYuYZ8YkIBf",
        "outputId": "370b9b1c-dd63-49ee-99ef-e98458a9e945"
      },
      "outputs": [
        {
          "output_type": "execute_result",
          "data": {
            "text/plain": [
              "                                        short_description  \\\n",
              "459     “Are you looking to spend $100,000 you don’t h...   \n",
              "44881   Pitt is reportedly under investigation regardi...   \n",
              "83887                               Yes, this is a thing.   \n",
              "54058                                 Asked and answered.   \n",
              "11754                                    It's unBEARable.   \n",
              "...                                                   ...   \n",
              "121000  Self-esteem can be a lifelong pursuit. We may ...   \n",
              "52713   It pains us to say it, but these cakes might b...   \n",
              "68264   \"You have to appreciate who you are in order t...   \n",
              "81240   There's a second video of the incident that au...   \n",
              "120524  You can't always poop where you want. But if y...   \n",
              "\n",
              "                                                 headline       date  \\\n",
              "459     Trevor Noah Skewers Betsy DeVos With Fake For-... 2018-05-17   \n",
              "44881   Angelina Jolie And Her Kids Reportedly Intervi... 2016-10-19   \n",
              "83887   If You Think The Apple Watch Is Ridiculous, Yo... 2015-08-04   \n",
              "54058   How To Get The Perfect Shave, According To The... 2016-07-07   \n",
              "11754   This 6-Foot-5-Inch Teddy Bear Is All Legs And ... 2017-11-15   \n",
              "...                                                   ...        ...   \n",
              "121000  Why It's Important to Learn the Difference Bet... 2014-06-05   \n",
              "52713   These Breathtakingly Beautiful Cakes Are Strai... 2016-07-22   \n",
              "68264   Meet The Visionary Chicago School Leader Who J... 2016-01-27   \n",
              "81240   Sheriff Says Man Killed With Hands In Air Poss... 2015-09-02   \n",
              "120524               You Can't Always Poop Where You Want 2014-06-10   \n",
              "\n",
              "                                                     link  \\\n",
              "459     https://www.huffingtonpost.com/entry/trevor-no...   \n",
              "44881   https://www.huffingtonpost.com/entry/angelina-...   \n",
              "83887   https://www.huffingtonpost.com/entry/apple-wat...   \n",
              "54058   https://www.huffingtonpost.com/entry/how-to-ge...   \n",
              "11754   https://www.huffingtonpost.com/entry/teddy-bea...   \n",
              "...                                                   ...   \n",
              "121000  https://www.huffingtonpost.com/entry/why-its-i...   \n",
              "52713   https://www.huffingtonpost.com/entry/beautiful...   \n",
              "68264   https://www.huffingtonpost.com/entry/juan-salg...   \n",
              "81240   https://www.huffingtonpost.com/entry/sheriff-s...   \n",
              "120524  https://www.huffingtonpost.com/entry/you-cant-...   \n",
              "\n",
              "                                                  authors       category  \n",
              "459                                             Lee Moran         COMEDY  \n",
              "44881                                   Julia Brucculieri  ENTERTAINMENT  \n",
              "83887                                        Alexandra Ma           TECH  \n",
              "54058                                          James Cave          STYLE  \n",
              "11754                                     Carly Ledbetter     WEIRD NEWS  \n",
              "...                                                   ...            ...  \n",
              "121000  Cathy Chester, ContributorAward-winning blogge...          FIFTY  \n",
              "52713                                    Abigail Williams          TASTE  \n",
              "68264                   Heather Martino, The Seventy Four         IMPACT  \n",
              "81240                                                              CRIME  \n",
              "120524  Peyton Price and Stephanie Sprenger, Contributors        PARENTS  \n",
              "\n",
              "[100 rows x 6 columns]"
            ],
            "text/html": [
              "\n",
              "  <div id=\"df-b4138912-90d3-46bf-8fdf-ff4b5fe723d0\" class=\"colab-df-container\">\n",
              "    <div>\n",
              "<style scoped>\n",
              "    .dataframe tbody tr th:only-of-type {\n",
              "        vertical-align: middle;\n",
              "    }\n",
              "\n",
              "    .dataframe tbody tr th {\n",
              "        vertical-align: top;\n",
              "    }\n",
              "\n",
              "    .dataframe thead th {\n",
              "        text-align: right;\n",
              "    }\n",
              "</style>\n",
              "<table border=\"1\" class=\"dataframe\">\n",
              "  <thead>\n",
              "    <tr style=\"text-align: right;\">\n",
              "      <th></th>\n",
              "      <th>short_description</th>\n",
              "      <th>headline</th>\n",
              "      <th>date</th>\n",
              "      <th>link</th>\n",
              "      <th>authors</th>\n",
              "      <th>category</th>\n",
              "    </tr>\n",
              "  </thead>\n",
              "  <tbody>\n",
              "    <tr>\n",
              "      <th>459</th>\n",
              "      <td>“Are you looking to spend $100,000 you don’t h...</td>\n",
              "      <td>Trevor Noah Skewers Betsy DeVos With Fake For-...</td>\n",
              "      <td>2018-05-17</td>\n",
              "      <td>https://www.huffingtonpost.com/entry/trevor-no...</td>\n",
              "      <td>Lee Moran</td>\n",
              "      <td>COMEDY</td>\n",
              "    </tr>\n",
              "    <tr>\n",
              "      <th>44881</th>\n",
              "      <td>Pitt is reportedly under investigation regardi...</td>\n",
              "      <td>Angelina Jolie And Her Kids Reportedly Intervi...</td>\n",
              "      <td>2016-10-19</td>\n",
              "      <td>https://www.huffingtonpost.com/entry/angelina-...</td>\n",
              "      <td>Julia Brucculieri</td>\n",
              "      <td>ENTERTAINMENT</td>\n",
              "    </tr>\n",
              "    <tr>\n",
              "      <th>83887</th>\n",
              "      <td>Yes, this is a thing.</td>\n",
              "      <td>If You Think The Apple Watch Is Ridiculous, Yo...</td>\n",
              "      <td>2015-08-04</td>\n",
              "      <td>https://www.huffingtonpost.com/entry/apple-wat...</td>\n",
              "      <td>Alexandra Ma</td>\n",
              "      <td>TECH</td>\n",
              "    </tr>\n",
              "    <tr>\n",
              "      <th>54058</th>\n",
              "      <td>Asked and answered.</td>\n",
              "      <td>How To Get The Perfect Shave, According To The...</td>\n",
              "      <td>2016-07-07</td>\n",
              "      <td>https://www.huffingtonpost.com/entry/how-to-ge...</td>\n",
              "      <td>James Cave</td>\n",
              "      <td>STYLE</td>\n",
              "    </tr>\n",
              "    <tr>\n",
              "      <th>11754</th>\n",
              "      <td>It's unBEARable.</td>\n",
              "      <td>This 6-Foot-5-Inch Teddy Bear Is All Legs And ...</td>\n",
              "      <td>2017-11-15</td>\n",
              "      <td>https://www.huffingtonpost.com/entry/teddy-bea...</td>\n",
              "      <td>Carly Ledbetter</td>\n",
              "      <td>WEIRD NEWS</td>\n",
              "    </tr>\n",
              "    <tr>\n",
              "      <th>...</th>\n",
              "      <td>...</td>\n",
              "      <td>...</td>\n",
              "      <td>...</td>\n",
              "      <td>...</td>\n",
              "      <td>...</td>\n",
              "      <td>...</td>\n",
              "    </tr>\n",
              "    <tr>\n",
              "      <th>121000</th>\n",
              "      <td>Self-esteem can be a lifelong pursuit. We may ...</td>\n",
              "      <td>Why It's Important to Learn the Difference Bet...</td>\n",
              "      <td>2014-06-05</td>\n",
              "      <td>https://www.huffingtonpost.com/entry/why-its-i...</td>\n",
              "      <td>Cathy Chester, ContributorAward-winning blogge...</td>\n",
              "      <td>FIFTY</td>\n",
              "    </tr>\n",
              "    <tr>\n",
              "      <th>52713</th>\n",
              "      <td>It pains us to say it, but these cakes might b...</td>\n",
              "      <td>These Breathtakingly Beautiful Cakes Are Strai...</td>\n",
              "      <td>2016-07-22</td>\n",
              "      <td>https://www.huffingtonpost.com/entry/beautiful...</td>\n",
              "      <td>Abigail Williams</td>\n",
              "      <td>TASTE</td>\n",
              "    </tr>\n",
              "    <tr>\n",
              "      <th>68264</th>\n",
              "      <td>\"You have to appreciate who you are in order t...</td>\n",
              "      <td>Meet The Visionary Chicago School Leader Who J...</td>\n",
              "      <td>2016-01-27</td>\n",
              "      <td>https://www.huffingtonpost.com/entry/juan-salg...</td>\n",
              "      <td>Heather Martino, The Seventy Four</td>\n",
              "      <td>IMPACT</td>\n",
              "    </tr>\n",
              "    <tr>\n",
              "      <th>81240</th>\n",
              "      <td>There's a second video of the incident that au...</td>\n",
              "      <td>Sheriff Says Man Killed With Hands In Air Poss...</td>\n",
              "      <td>2015-09-02</td>\n",
              "      <td>https://www.huffingtonpost.com/entry/sheriff-s...</td>\n",
              "      <td></td>\n",
              "      <td>CRIME</td>\n",
              "    </tr>\n",
              "    <tr>\n",
              "      <th>120524</th>\n",
              "      <td>You can't always poop where you want. But if y...</td>\n",
              "      <td>You Can't Always Poop Where You Want</td>\n",
              "      <td>2014-06-10</td>\n",
              "      <td>https://www.huffingtonpost.com/entry/you-cant-...</td>\n",
              "      <td>Peyton Price and Stephanie Sprenger, Contributors</td>\n",
              "      <td>PARENTS</td>\n",
              "    </tr>\n",
              "  </tbody>\n",
              "</table>\n",
              "<p>100 rows × 6 columns</p>\n",
              "</div>\n",
              "    <div class=\"colab-df-buttons\">\n",
              "\n",
              "  <div class=\"colab-df-container\">\n",
              "    <button class=\"colab-df-convert\" onclick=\"convertToInteractive('df-b4138912-90d3-46bf-8fdf-ff4b5fe723d0')\"\n",
              "            title=\"Convert this dataframe to an interactive table.\"\n",
              "            style=\"display:none;\">\n",
              "\n",
              "  <svg xmlns=\"http://www.w3.org/2000/svg\" height=\"24px\" viewBox=\"0 -960 960 960\">\n",
              "    <path d=\"M120-120v-720h720v720H120Zm60-500h600v-160H180v160Zm220 220h160v-160H400v160Zm0 220h160v-160H400v160ZM180-400h160v-160H180v160Zm440 0h160v-160H620v160ZM180-180h160v-160H180v160Zm440 0h160v-160H620v160Z\"/>\n",
              "  </svg>\n",
              "    </button>\n",
              "\n",
              "  <style>\n",
              "    .colab-df-container {\n",
              "      display:flex;\n",
              "      gap: 12px;\n",
              "    }\n",
              "\n",
              "    .colab-df-convert {\n",
              "      background-color: #E8F0FE;\n",
              "      border: none;\n",
              "      border-radius: 50%;\n",
              "      cursor: pointer;\n",
              "      display: none;\n",
              "      fill: #1967D2;\n",
              "      height: 32px;\n",
              "      padding: 0 0 0 0;\n",
              "      width: 32px;\n",
              "    }\n",
              "\n",
              "    .colab-df-convert:hover {\n",
              "      background-color: #E2EBFA;\n",
              "      box-shadow: 0px 1px 2px rgba(60, 64, 67, 0.3), 0px 1px 3px 1px rgba(60, 64, 67, 0.15);\n",
              "      fill: #174EA6;\n",
              "    }\n",
              "\n",
              "    .colab-df-buttons div {\n",
              "      margin-bottom: 4px;\n",
              "    }\n",
              "\n",
              "    [theme=dark] .colab-df-convert {\n",
              "      background-color: #3B4455;\n",
              "      fill: #D2E3FC;\n",
              "    }\n",
              "\n",
              "    [theme=dark] .colab-df-convert:hover {\n",
              "      background-color: #434B5C;\n",
              "      box-shadow: 0px 1px 3px 1px rgba(0, 0, 0, 0.15);\n",
              "      filter: drop-shadow(0px 1px 2px rgba(0, 0, 0, 0.3));\n",
              "      fill: #FFFFFF;\n",
              "    }\n",
              "  </style>\n",
              "\n",
              "    <script>\n",
              "      const buttonEl =\n",
              "        document.querySelector('#df-b4138912-90d3-46bf-8fdf-ff4b5fe723d0 button.colab-df-convert');\n",
              "      buttonEl.style.display =\n",
              "        google.colab.kernel.accessAllowed ? 'block' : 'none';\n",
              "\n",
              "      async function convertToInteractive(key) {\n",
              "        const element = document.querySelector('#df-b4138912-90d3-46bf-8fdf-ff4b5fe723d0');\n",
              "        const dataTable =\n",
              "          await google.colab.kernel.invokeFunction('convertToInteractive',\n",
              "                                                    [key], {});\n",
              "        if (!dataTable) return;\n",
              "\n",
              "        const docLinkHtml = 'Like what you see? Visit the ' +\n",
              "          '<a target=\"_blank\" href=https://colab.research.google.com/notebooks/data_table.ipynb>data table notebook</a>'\n",
              "          + ' to learn more about interactive tables.';\n",
              "        element.innerHTML = '';\n",
              "        dataTable['output_type'] = 'display_data';\n",
              "        await google.colab.output.renderOutput(dataTable, element);\n",
              "        const docLink = document.createElement('div');\n",
              "        docLink.innerHTML = docLinkHtml;\n",
              "        element.appendChild(docLink);\n",
              "      }\n",
              "    </script>\n",
              "  </div>\n",
              "\n",
              "\n",
              "<div id=\"df-6e20b6a6-d589-4a04-8d37-7ab05944ce43\">\n",
              "  <button class=\"colab-df-quickchart\" onclick=\"quickchart('df-6e20b6a6-d589-4a04-8d37-7ab05944ce43')\"\n",
              "            title=\"Suggest charts\"\n",
              "            style=\"display:none;\">\n",
              "\n",
              "<svg xmlns=\"http://www.w3.org/2000/svg\" height=\"24px\"viewBox=\"0 0 24 24\"\n",
              "     width=\"24px\">\n",
              "    <g>\n",
              "        <path d=\"M19 3H5c-1.1 0-2 .9-2 2v14c0 1.1.9 2 2 2h14c1.1 0 2-.9 2-2V5c0-1.1-.9-2-2-2zM9 17H7v-7h2v7zm4 0h-2V7h2v10zm4 0h-2v-4h2v4z\"/>\n",
              "    </g>\n",
              "</svg>\n",
              "  </button>\n",
              "\n",
              "<style>\n",
              "  .colab-df-quickchart {\n",
              "      --bg-color: #E8F0FE;\n",
              "      --fill-color: #1967D2;\n",
              "      --hover-bg-color: #E2EBFA;\n",
              "      --hover-fill-color: #174EA6;\n",
              "      --disabled-fill-color: #AAA;\n",
              "      --disabled-bg-color: #DDD;\n",
              "  }\n",
              "\n",
              "  [theme=dark] .colab-df-quickchart {\n",
              "      --bg-color: #3B4455;\n",
              "      --fill-color: #D2E3FC;\n",
              "      --hover-bg-color: #434B5C;\n",
              "      --hover-fill-color: #FFFFFF;\n",
              "      --disabled-bg-color: #3B4455;\n",
              "      --disabled-fill-color: #666;\n",
              "  }\n",
              "\n",
              "  .colab-df-quickchart {\n",
              "    background-color: var(--bg-color);\n",
              "    border: none;\n",
              "    border-radius: 50%;\n",
              "    cursor: pointer;\n",
              "    display: none;\n",
              "    fill: var(--fill-color);\n",
              "    height: 32px;\n",
              "    padding: 0;\n",
              "    width: 32px;\n",
              "  }\n",
              "\n",
              "  .colab-df-quickchart:hover {\n",
              "    background-color: var(--hover-bg-color);\n",
              "    box-shadow: 0 1px 2px rgba(60, 64, 67, 0.3), 0 1px 3px 1px rgba(60, 64, 67, 0.15);\n",
              "    fill: var(--button-hover-fill-color);\n",
              "  }\n",
              "\n",
              "  .colab-df-quickchart-complete:disabled,\n",
              "  .colab-df-quickchart-complete:disabled:hover {\n",
              "    background-color: var(--disabled-bg-color);\n",
              "    fill: var(--disabled-fill-color);\n",
              "    box-shadow: none;\n",
              "  }\n",
              "\n",
              "  .colab-df-spinner {\n",
              "    border: 2px solid var(--fill-color);\n",
              "    border-color: transparent;\n",
              "    border-bottom-color: var(--fill-color);\n",
              "    animation:\n",
              "      spin 1s steps(1) infinite;\n",
              "  }\n",
              "\n",
              "  @keyframes spin {\n",
              "    0% {\n",
              "      border-color: transparent;\n",
              "      border-bottom-color: var(--fill-color);\n",
              "      border-left-color: var(--fill-color);\n",
              "    }\n",
              "    20% {\n",
              "      border-color: transparent;\n",
              "      border-left-color: var(--fill-color);\n",
              "      border-top-color: var(--fill-color);\n",
              "    }\n",
              "    30% {\n",
              "      border-color: transparent;\n",
              "      border-left-color: var(--fill-color);\n",
              "      border-top-color: var(--fill-color);\n",
              "      border-right-color: var(--fill-color);\n",
              "    }\n",
              "    40% {\n",
              "      border-color: transparent;\n",
              "      border-right-color: var(--fill-color);\n",
              "      border-top-color: var(--fill-color);\n",
              "    }\n",
              "    60% {\n",
              "      border-color: transparent;\n",
              "      border-right-color: var(--fill-color);\n",
              "    }\n",
              "    80% {\n",
              "      border-color: transparent;\n",
              "      border-right-color: var(--fill-color);\n",
              "      border-bottom-color: var(--fill-color);\n",
              "    }\n",
              "    90% {\n",
              "      border-color: transparent;\n",
              "      border-bottom-color: var(--fill-color);\n",
              "    }\n",
              "  }\n",
              "</style>\n",
              "\n",
              "  <script>\n",
              "    async function quickchart(key) {\n",
              "      const quickchartButtonEl =\n",
              "        document.querySelector('#' + key + ' button');\n",
              "      quickchartButtonEl.disabled = true;  // To prevent multiple clicks.\n",
              "      quickchartButtonEl.classList.add('colab-df-spinner');\n",
              "      try {\n",
              "        const charts = await google.colab.kernel.invokeFunction(\n",
              "            'suggestCharts', [key], {});\n",
              "      } catch (error) {\n",
              "        console.error('Error during call to suggestCharts:', error);\n",
              "      }\n",
              "      quickchartButtonEl.classList.remove('colab-df-spinner');\n",
              "      quickchartButtonEl.classList.add('colab-df-quickchart-complete');\n",
              "    }\n",
              "    (() => {\n",
              "      let quickchartButtonEl =\n",
              "        document.querySelector('#df-6e20b6a6-d589-4a04-8d37-7ab05944ce43 button');\n",
              "      quickchartButtonEl.style.display =\n",
              "        google.colab.kernel.accessAllowed ? 'block' : 'none';\n",
              "    })();\n",
              "  </script>\n",
              "</div>\n",
              "\n",
              "    </div>\n",
              "  </div>\n"
            ],
            "application/vnd.google.colaboratory.intrinsic+json": {
              "type": "dataframe",
              "summary": "{\n  \"name\": \"df\",\n  \"rows\": 100,\n  \"fields\": [\n    {\n      \"column\": \"short_description\",\n      \"properties\": {\n        \"dtype\": \"string\",\n        \"num_unique_values\": 85,\n        \"samples\": [\n          \"See anything wrong with the White Sox hat?\",\n          \"\\u201cAre you looking to spend $100,000 you don\\u2019t have to get a degree that won\\u2019t help you find a job?\\u201d\",\n          \"The blast occurred near in the vicinity of Ayn Issa.\"\n        ],\n        \"semantic_type\": \"\",\n        \"description\": \"\"\n      }\n    },\n    {\n      \"column\": \"headline\",\n      \"properties\": {\n        \"dtype\": \"string\",\n        \"num_unique_values\": 100,\n        \"samples\": [\n          \"REPORT: Donald Sterling Refuses To Pay $2.5 Million Fine For Racist Comments\",\n          \"Israel's Attacks in Syria Pose New Challenges for the Iranian Axis\",\n          \"Beautiful Photos Of Celebrations Outside Supreme Court After Gay Marriage Decision\"\n        ],\n        \"semantic_type\": \"\",\n        \"description\": \"\"\n      }\n    },\n    {\n      \"column\": \"date\",\n      \"properties\": {\n        \"dtype\": \"date\",\n        \"min\": \"2014-05-16 00:00:00\",\n        \"max\": \"2018-05-17 00:00:00\",\n        \"num_unique_values\": 94,\n        \"samples\": [\n          \"2014-08-29 00:00:00\",\n          \"2016-10-04 00:00:00\",\n          \"2018-03-16 00:00:00\"\n        ],\n        \"semantic_type\": \"\",\n        \"description\": \"\"\n      }\n    },\n    {\n      \"column\": \"link\",\n      \"properties\": {\n        \"dtype\": \"string\",\n        \"num_unique_values\": 100,\n        \"samples\": [\n          \"https://www.huffingtonpost.com/entry/source-donald-sterling-re_n_5334628.html\",\n          \"https://www.huffingtonpost.com/entry/israels-attacks-in-syria-_b_7145772.html\",\n          \"https://www.huffingtonpost.com/entry/photos-show-celebration-o_n_7671690.html\"\n        ],\n        \"semantic_type\": \"\",\n        \"description\": \"\"\n      }\n    },\n    {\n      \"column\": \"authors\",\n      \"properties\": {\n        \"dtype\": \"string\",\n        \"num_unique_values\": 69,\n        \"samples\": [\n          \"Ryan Grenoble\",\n          \"Lee Moran\",\n          \"Ed Mazza\"\n        ],\n        \"semantic_type\": \"\",\n        \"description\": \"\"\n      }\n    },\n    {\n      \"column\": \"category\",\n      \"properties\": {\n        \"dtype\": \"category\",\n        \"num_unique_values\": 26,\n        \"samples\": [\n          \"ARTS\",\n          \"WORLD NEWS\",\n          \"COMEDY\"\n        ],\n        \"semantic_type\": \"\",\n        \"description\": \"\"\n      }\n    }\n  ]\n}"
            }
          },
          "metadata": {},
          "execution_count": 13
        }
      ],
      "source": [
        "df.sample(100)"
      ]
    },
    {
      "cell_type": "markdown",
      "metadata": {
        "id": "ZajE2tv-kIBg"
      },
      "source": [
        "## Date range\n",
        "Articles are between July 2014 and July 2018"
      ]
    },
    {
      "cell_type": "code",
      "execution_count": 14,
      "metadata": {
        "colab": {
          "base_uri": "https://localhost:8080/",
          "height": 543
        },
        "id": "K1F--LMpkIBg",
        "outputId": "12e648e0-45d4-4d95-a182-1e5400195dc3"
      },
      "outputs": [
        {
          "output_type": "execute_result",
          "data": {
            "text/plain": [
              "<Axes: >"
            ]
          },
          "metadata": {},
          "execution_count": 14
        },
        {
          "output_type": "display_data",
          "data": {
            "text/plain": [
              "<Figure size 1200x600 with 1 Axes>"
            ],
            "image/png": "[encoded data removed]"
          },
          "metadata": {}
        }
      ],
      "source": [
        "df.date.hist(figsize=(12,6),color='teal',)\n"
      ]
    },
    {
      "cell_type": "markdown",
      "metadata": {
        "id": "-M2yekDWkIBg"
      },
      "source": [
        "## Category Distribution\n",
        "\n",
        "### Number of categories"
      ]
    },
    {
      "cell_type": "code",
      "execution_count": 15,
      "metadata": {
        "colab": {
          "base_uri": "https://localhost:8080/"
        },
        "id": "8TC6rrSjkIBg",
        "outputId": "0f3f981f-f6a7-4ca9-b2ca-291a67f6c66c"
      },
      "outputs": [
        {
          "output_type": "execute_result",
          "data": {
            "text/plain": [
              "31"
            ]
          },
          "metadata": {},
          "execution_count": 15
        }
      ],
      "source": [
        "len(set(df['category'].values))"
      ]
    },
    {
      "cell_type": "markdown",
      "metadata": {
        "id": "-270tAevkIBg"
      },
      "source": [
        "### Category by count\n",
        "\n",
        "Most of the articles are related to politics. Education related articles have the lowest volume."
      ]
    },
    {
      "cell_type": "code",
      "execution_count": 20,
      "metadata": {
        "colab": {
          "base_uri": "https://localhost:8080/",
          "height": 423
        },
        "id": "lbC6Jv0KkIBh",
        "outputId": "a6eeb208-a926-4954-ce97-08b031063909"
      },
      "outputs": [
        {
          "output_type": "execute_result",
          "data": {
            "text/plain": [
              "<Axes: ylabel='count'>"
            ]
          },
          "metadata": {},
          "execution_count": 20
        },
        {
          "output_type": "display_data",
          "data": {
            "text/plain": [
              "<Figure size 640x480 with 1 Axes>"
            ],
            "image/png": "[encoded data removed]"
          },
          "metadata": {}
        }
      ],
      "source": [
        "df['category'].value_counts().plot(kind='pie')"
      ]
    },
    {
      "cell_type": "markdown",
      "metadata": {
        "id": "vwyINfkpkIBh"
      },
      "source": [
        "## Texts for Classification\n",
        "\n",
        "These are some of the fields we can use for the classification task. We create 3 different versions."
      ]
    },
    {
      "cell_type": "code",
      "execution_count": 17,
      "metadata": {
        "id": "jL-5oHTvkIBh"
      },
      "outputs": [],
      "source": [
        "import re\n",
        "\n",
        "def tokenize_url(url:str):\n",
        "    url=url.replace(\"https://www.huffingtonpost.com/entry/\",\"\")\n",
        "    url=re.sub(\"(\\W|_)+\",\" \",url)\n",
        "    return url\n",
        "\n",
        "df['tokenized_url']=df['link'].apply(lambda x:tokenize_url(x))\n",
        "\n",
        "#just the description\n",
        "df['text_desc'] = df['short_description']\n",
        "\n",
        "#description + headline\n",
        "df['text_desc_headline'] = df['short_description'] + ' '+ df['headline']\n",
        "\n",
        "#description + headline + tokenized url\n",
        "df['text_desc_headline_url'] = df['short_description'] + ' '+ df['headline']+\" \" + df['tokenized_url']\n"
      ]
    },
    {
      "cell_type": "code",
      "execution_count": 19,
      "metadata": {
        "id": "uG6SPoD0kIBh"
      },
      "outputs": [],
      "source": [
        "def _reciprocal_rank(true_labels: list, machine_preds: list):\n",
        "    \"\"\"Compute the reciprocal rank at cutoff k\"\"\"\n",
        "\n",
        "    # add index to list only if machine predicted label exists in true labels\n",
        "    tp_pos_list = [(idx + 1) for idx, r in enumerate(machine_preds) if r in true_labels]\n",
        "\n",
        "    rr = 0\n",
        "    if len(tp_pos_list) > 0:\n",
        "        # for RR we need position of first correct item\n",
        "        first_pos_list = tp_pos_list[0]\n",
        "\n",
        "        # rr = 1/rank\n",
        "        rr = 1 / float(first_pos_list)\n",
        "\n",
        "    return rr\n",
        "\n",
        "def compute_mrr_at_k(items:list):\n",
        "    \"\"\"Compute the MRR (average RR) at cutoff k\"\"\"\n",
        "    rr_total = 0\n",
        "\n",
        "    for item in items:\n",
        "        rr_at_k = _reciprocal_rank(item[0],item[1])\n",
        "        rr_total = rr_total + rr_at_k\n",
        "        mrr = rr_total / 1/float(len(items))\n",
        "\n",
        "    return mrr\n",
        "\n",
        "def collect_preds(Y_test,Y_preds):\n",
        "    \"\"\"Collect all predictions and ground truth\"\"\"\n",
        "\n",
        "    pred_gold_list=[[[Y_test[idx]],pred] for idx,pred in enumerate(Y_preds)]\n",
        "    return pred_gold_list\n",
        "\n",
        "def compute_accuracy(eval_items:list):\n",
        "    correct=0\n",
        "    total=0\n",
        "\n",
        "    for item in eval_items:\n",
        "        true_pred=item[0]\n",
        "        machine_pred=set(item[1])\n",
        "\n",
        "        for cat in true_pred:\n",
        "            if cat in machine_pred:\n",
        "                correct+=1\n",
        "                break\n",
        "\n",
        "\n",
        "    accuracy=correct/float(len(eval_items))\n",
        "    return accuracy\n"
      ]
    },
    {
      "cell_type": "code",
      "execution_count": 20,
      "metadata": {
        "id": "QGxdZkajkIBh"
      },
      "outputs": [],
      "source": [
        "from sklearn.metrics import precision_recall_fscore_support\n",
        "from sklearn.model_selection import train_test_split\n",
        "from sklearn.linear_model import LogisticRegression\n",
        "from sklearn.feature_extraction.text import CountVectorizer,TfidfVectorizer\n",
        "\n",
        "import numpy as np\n",
        "import logging\n",
        "\n",
        "logging.basicConfig(format='%(asctime)s : %(levelname)s : %(message)s', level=logging.INFO)\n",
        "\n",
        "def extract_features(df,field,training_data,testing_data,type=\"binary\"):\n",
        "    \"\"\"Extract features using different methods\"\"\"\n",
        "\n",
        "    logging.info(\"Extracting features and creating vocabulary...\")\n",
        "\n",
        "    if \"binary\" in type:\n",
        "\n",
        "        # BINARY FEATURE REPRESENTATION\n",
        "        cv= CountVectorizer(binary=True, max_df=0.95)\n",
        "        cv.fit_transform(training_data[field].values)\n",
        "\n",
        "        train_feature_set=cv.transform(training_data[field].values)\n",
        "        test_feature_set=cv.transform(testing_data[field].values)\n",
        "\n",
        "        return train_feature_set,test_feature_set,cv\n",
        "\n",
        "    elif \"counts\" in type:\n",
        "\n",
        "        # COUNT BASED FEATURE REPRESENTATION\n",
        "        cv= CountVectorizer(binary=False, max_df=0.95)\n",
        "        cv.fit_transform(training_data[field].values)\n",
        "\n",
        "        train_feature_set=cv.transform(training_data[field].values)\n",
        "        test_feature_set=cv.transform(testing_data[field].values)\n",
        "\n",
        "        return train_feature_set,test_feature_set,cv\n",
        "\n",
        "    else:\n",
        "\n",
        "        # TF-IDF BASED FEATURE REPRESENTATION\n",
        "        tfidf_vectorizer=TfidfVectorizer(use_idf=True, max_df=0.95)\n",
        "        tfidf_vectorizer.fit_transform(training_data[field].values)\n",
        "\n",
        "        train_feature_set=tfidf_vectorizer.transform(training_data[field].values)\n",
        "        test_feature_set=tfidf_vectorizer.transform(testing_data[field].values)\n",
        "\n",
        "        return train_feature_set,test_feature_set,tfidf_vectorizer\n",
        "\n",
        "def get_top_k_predictions(model,X_test,k):\n",
        "\n",
        "    # get probabilities instead of predicted labels, since we want to collect top 3\n",
        "    probs = model.predict_proba(X_test)\n",
        "\n",
        "    # GET TOP K PREDICTIONS BY PROB - note these are just index\n",
        "    best_n = np.argsort(probs, axis=1)[:,-k:]\n",
        "\n",
        "    # GET CATEGORY OF PREDICTIONS\n",
        "    preds=[[model.classes_[predicted_cat] for predicted_cat in prediction] for prediction in best_n]\n",
        "\n",
        "    preds=[ item[::-1] for item in preds]\n",
        "\n",
        "    return preds\n",
        "\n",
        "\n",
        "def train_model(df,field=\"text_desc\",feature_rep=\"binary\",top_k=3):\n",
        "\n",
        "    logging.info(\"Starting model training...\")\n",
        "\n",
        "    # GET A TRAIN TEST SPLIT (set seed for consistent results)\n",
        "    training_data, testing_data = train_test_split(df,random_state = 2000,)\n",
        "\n",
        "    # GET LABELS\n",
        "    Y_train=training_data['category'].values\n",
        "    Y_test=testing_data['category'].values\n",
        "\n",
        "    # GET FEATURES\n",
        "    X_train,X_test,feature_transformer=extract_features(df,field,training_data,testing_data,type=feature_rep)\n",
        "\n",
        "    # INIT LOGISTIC REGRESSION CLASSIFIER\n",
        "    logging.info(\"Training a Logistic Regression Model...\")\n",
        "    scikit_log_reg = LogisticRegression(verbose=1, solver='liblinear',random_state=0, C=5, penalty='l2',max_iter=1000)\n",
        "    model=scikit_log_reg.fit(X_train,Y_train)\n",
        "\n",
        "    # GET TOP K PREDICTIONS\n",
        "    preds=get_top_k_predictions(model,X_test,top_k)\n",
        "\n",
        "    # GET PREDICTED VALUES AND GROUND TRUTH INTO A LIST OF LISTS - for ease of evaluation\n",
        "    eval_items=collect_preds(Y_test,preds)\n",
        "\n",
        "    # GET EVALUATION NUMBERS ON TEST SET -- HOW DID WE DO?\n",
        "    logging.info(\"Starting evaluation...\")\n",
        "    accuracy=compute_accuracy(eval_items)\n",
        "    mrr_at_k=compute_mrr_at_k(eval_items)\n",
        "\n",
        "    logging.info(\"Done training and evaluation.\")\n",
        "\n",
        "    return model,feature_transformer,accuracy,mrr_at_k\n"
      ]
    },
    {
      "cell_type": "markdown",
      "metadata": {
        "id": "cvKzmRV9kIBi"
      },
      "source": [
        "## Train a Single Model"
      ]
    },
    {
      "cell_type": "markdown",
      "metadata": {
        "id": "OCswLyFNkIBi"
      },
      "source": [
        "### Model  - 1  (binary features with description only)"
      ]
    },
    {
      "cell_type": "code",
      "execution_count": 21,
      "metadata": {
        "colab": {
          "base_uri": "https://localhost:8080/"
        },
        "id": "ETM6F_uakIBi",
        "outputId": "c90b5b34-5b17-4e62-a897-c6513357c5e8"
      },
      "outputs": [
        {
          "output_type": "stream",
          "name": "stdout",
          "text": [
            "[LibLinear]\n",
            "Accuracy=0.5980862775217614; MRR=0.480516086362876\n"
          ]
        }
      ],
      "source": [
        "field='text_desc'\n",
        "feature_rep='binary'\n",
        "top_k=3\n",
        "\n",
        "model,transformer,accuracy,mrr_at_k=train_model(df,field=field,feature_rep=feature_rep,top_k=top_k)\n",
        "print(\"\\nAccuracy={0}; MRR={1}\".format(accuracy,mrr_at_k))"
      ]
    },
    {
      "cell_type": "markdown",
      "metadata": {
        "id": "tmhH30cHkIBi"
      },
      "source": [
        "### Model - 2 (tfidf features with description only)"
      ]
    },
    {
      "cell_type": "code",
      "execution_count": 22,
      "metadata": {
        "colab": {
          "base_uri": "https://localhost:8080/"
        },
        "id": "keyMpEChkIBi",
        "outputId": "b0194d5f-e6cc-4b81-d4d7-f2aed21246d8"
      },
      "outputs": [
        {
          "output_type": "stream",
          "name": "stdout",
          "text": [
            "[LibLinear]\n",
            "Accuracy=0.6306643625192012; MRR=0.5108326932923889\n"
          ]
        }
      ],
      "source": [
        "field='text_desc'\n",
        "feature_rep='tfidf'\n",
        "top_k=3\n",
        "\n",
        "model,transformer,accuracy,mrr_at_k=train_model(df,field=field,feature_rep=feature_rep,top_k=top_k)\n",
        "print(\"\\nAccuracy={0}; MRR={1}\".format(accuracy,mrr_at_k))"
      ]
    },
    {
      "cell_type": "markdown",
      "metadata": {
        "id": "UMLcbA7kkIBi"
      },
      "source": [
        "### Model - 3 (tfidf features with description, headline, url)"
      ]
    },
    {
      "cell_type": "code",
      "execution_count": 23,
      "metadata": {
        "colab": {
          "base_uri": "https://localhost:8080/"
        },
        "id": "T-UAiP-AkIBi",
        "outputId": "7e53b4c1-d73e-4f29-aaf9-768cf7de6d94"
      },
      "outputs": [
        {
          "output_type": "stream",
          "name": "stdout",
          "text": [
            "[LibLinear]\n",
            "Accuracy=0.8672875064004096; MRR=0.7511734084314612\n"
          ]
        }
      ],
      "source": [
        "field='text_desc_headline_url'\n",
        "feature_rep='tfidf'\n",
        "top_k=3\n",
        "\n",
        "model,transformer,accuracy,mrr_at_k=train_model(df,field=field,feature_rep=feature_rep,top_k=top_k)\n",
        "print(\"\\nAccuracy={0}; MRR={1}\".format(accuracy,mrr_at_k))"
      ]
    },
    {
      "cell_type": "markdown",
      "metadata": {
        "id": "Abg-v1mukIBi"
      },
      "source": [
        "## Check Predictions on Unseen Articles from CNN (not HuffPost our training data)"
      ]
    },
    {
      "cell_type": "code",
      "execution_count": 24,
      "metadata": {
        "colab": {
          "base_uri": "https://localhost:8080/"
        },
        "id": "BAVaVE2fkIBi",
        "outputId": "f39d1040-80e1-4a87-ad72-40b1fa12eb9d"
      },
      "outputs": [
        {
          "output_type": "execute_result",
          "data": {
            "text/plain": [
              "[['POLITICS', 'CRIME']]"
            ]
          },
          "metadata": {},
          "execution_count": 24
        }
      ],
      "source": [
        "# https://www.cnn.com/2019/07/19/politics/george-nader-child-porn-sex-charges/index.html\n",
        "test_features=transformer.transform([\"George Aref Nader, who was a key witness in special counsel Robert Mueller's Russia investigation, faces new charges of transporting a minor with intent to engage in criminal sexual activity and child pornography\"])\n",
        "get_top_k_predictions(model,test_features,2)"
      ]
    },
    {
      "cell_type": "code",
      "execution_count": 25,
      "metadata": {
        "colab": {
          "base_uri": "https://localhost:8080/"
        },
        "id": "yROfpYaMkIBj",
        "outputId": "2ff2e5ac-fee0-42d9-e275-d60876d2ff83"
      },
      "outputs": [
        {
          "output_type": "execute_result",
          "data": {
            "text/plain": [
              "[['ENTERTAINMENT', 'STYLE']]"
            ]
          },
          "metadata": {},
          "execution_count": 25
        }
      ],
      "source": [
        "# https://www.cnn.com/2019/07/18/entertainment/khloe-kardashian-true-thompson-video-trnd/index.html\n",
        "test_features=transformer.transform([\"True Thompson makes an adorable cameo in Khloe Kardashian's new makeup tutorial video\"])\n",
        "model.predict(test_features)\n",
        "get_top_k_predictions(model,test_features,2)"
      ]
    },
    {
      "cell_type": "code",
      "execution_count": 26,
      "metadata": {
        "colab": {
          "base_uri": "https://localhost:8080/"
        },
        "id": "8Qh1ySTmkIBj",
        "outputId": "d9017cd3-8029-4dcf-96d0-9403ecf45e8f"
      },
      "outputs": [
        {
          "output_type": "execute_result",
          "data": {
            "text/plain": [
              "[['ENTERTAINMENT', 'STYLE']]"
            ]
          },
          "metadata": {},
          "execution_count": 26
        }
      ],
      "source": [
        "# https://www.cnn.com/2019/07/12/entertainment/heidi-klum-tom-kaulitz/\n",
        "test_features=transformer.transform([\"Heidi Klum is apparently the latest celeb to get married and not tell us\"])\n",
        "get_top_k_predictions(model,test_features,2)"
      ]
    },
    {
      "cell_type": "code",
      "execution_count": 27,
      "metadata": {
        "colab": {
          "base_uri": "https://localhost:8080/"
        },
        "id": "iFZSVSNGkIBj",
        "outputId": "1b6f2a13-09b8-4853-97f4-2ab4fbfd7634"
      },
      "outputs": [
        {
          "output_type": "execute_result",
          "data": {
            "text/plain": [
              "[['BUSINESS', 'POLITICS']]"
            ]
          },
          "metadata": {},
          "execution_count": 27
        }
      ],
      "source": [
        "# https://www.cnn.com/2019/07/19/investing/dow-stock-market-today/index.html\n",
        "test_features=transformer.transform([\"Stocks end lower as geopolitical fears rise. The Dow and US markets closed lower on Friday, as geopolitical worries overshadowed the hopes of interest rate cuts by the Federal Reserve.\"])\n",
        "get_top_k_predictions(model,test_features,2)"
      ]
    },
    {
      "cell_type": "code",
      "execution_count": 28,
      "metadata": {
        "colab": {
          "base_uri": "https://localhost:8080/"
        },
        "id": "Y0L6PpTKkIBj",
        "outputId": "60204e88-277c-40ae-b856-19f28c85e0b6"
      },
      "outputs": [
        {
          "output_type": "execute_result",
          "data": {
            "text/plain": [
              "[['SCIENCE', 'HEALTHY LIVING']]"
            ]
          },
          "metadata": {},
          "execution_count": 28
        }
      ],
      "source": [
        "# https://www.cnn.com/2019/07/19/health/astronaut-exercise-iv-faint-scn/index.html\n",
        "test_features=transformer.transform([\"Exercise in space keeps astronauts from fainting when they return to Earth, study says. \"])\n",
        "get_top_k_predictions(model,test_features,2)"
      ]
    },
    {
      "cell_type": "markdown",
      "metadata": {
        "id": "fMwDy3htkIBj"
      },
      "source": [
        "## Train Different Types of Models"
      ]
    },
    {
      "cell_type": "code",
      "execution_count": 1,
      "metadata": {
        "colab": {
          "base_uri": "https://localhost:8080/",
          "height": 211
        },
        "id": "Cf9FfdoHkIBj",
        "outputId": "b7858f49-4a1f-4e1f-a22b-e77c0744cc68"
      },
      "outputs": [
        {
          "output_type": "error",
          "ename": "NameError",
          "evalue": "name 'train_model' is not defined",
          "traceback": [
            "\u001b[0;31m---------------------------------------------------------------------------\u001b[0m",
            "\u001b[0;31mNameError\u001b[0m                                 Traceback (most recent call last)",
            "\u001b[0;32m<ipython-input-1-f64a6fef537a>\u001b[0m in \u001b[0;36m<cell line: 0>\u001b[0;34m()\u001b[0m\n\u001b[1;32m      7\u001b[0m     \u001b[0;32mfor\u001b[0m \u001b[0mfeature_rep\u001b[0m \u001b[0;32min\u001b[0m \u001b[0mfeature_reps\u001b[0m\u001b[0;34m:\u001b[0m\u001b[0;34m\u001b[0m\u001b[0;34m\u001b[0m\u001b[0m\n\u001b[1;32m      8\u001b[0m         \u001b[0;32mfor\u001b[0m \u001b[0mtop_k\u001b[0m \u001b[0;32min\u001b[0m \u001b[0mtop_ks\u001b[0m\u001b[0;34m:\u001b[0m\u001b[0;34m\u001b[0m\u001b[0;34m\u001b[0m\u001b[0m\n\u001b[0;32m----> 9\u001b[0;31m             \u001b[0mmodel\u001b[0m\u001b[0;34m,\u001b[0m\u001b[0mtransformer\u001b[0m\u001b[0;34m,\u001b[0m\u001b[0macc\u001b[0m\u001b[0;34m,\u001b[0m\u001b[0mmrr_at_k\u001b[0m\u001b[0;34m=\u001b[0m\u001b[0mtrain_model\u001b[0m\u001b[0;34m(\u001b[0m\u001b[0mdf\u001b[0m\u001b[0;34m,\u001b[0m\u001b[0mfield\u001b[0m\u001b[0;34m=\u001b[0m\u001b[0mfield\u001b[0m\u001b[0;34m,\u001b[0m\u001b[0mfeature_rep\u001b[0m\u001b[0;34m=\u001b[0m\u001b[0mfeature_rep\u001b[0m\u001b[0;34m,\u001b[0m\u001b[0mtop_k\u001b[0m\u001b[0;34m=\u001b[0m\u001b[0mtop_k\u001b[0m\u001b[0;34m)\u001b[0m\u001b[0;34m\u001b[0m\u001b[0;34m\u001b[0m\u001b[0m\n\u001b[0m\u001b[1;32m     10\u001b[0m             \u001b[0mresults\u001b[0m\u001b[0;34m.\u001b[0m\u001b[0mappend\u001b[0m\u001b[0;34m(\u001b[0m\u001b[0;34m[\u001b[0m\u001b[0mfield\u001b[0m\u001b[0;34m,\u001b[0m\u001b[0mfeature_rep\u001b[0m\u001b[0;34m,\u001b[0m\u001b[0mtop_k\u001b[0m\u001b[0;34m,\u001b[0m\u001b[0macc\u001b[0m\u001b[0;34m,\u001b[0m\u001b[0mmrr_at_k\u001b[0m\u001b[0;34m]\u001b[0m\u001b[0;34m)\u001b[0m\u001b[0;34m\u001b[0m\u001b[0;34m\u001b[0m\u001b[0m\n\u001b[1;32m     11\u001b[0m             \u001b[0mprint\u001b[0m\u001b[0;34m(\u001b[0m\u001b[0;34m\"\\nAccuracy={0}; MRR={1}\"\u001b[0m\u001b[0;34m.\u001b[0m\u001b[0mformat\u001b[0m\u001b[0;34m(\u001b[0m\u001b[0macc\u001b[0m\u001b[0;34m,\u001b[0m\u001b[0mmrr_at_k\u001b[0m\u001b[0;34m)\u001b[0m\u001b[0;34m)\u001b[0m\u001b[0;34m\u001b[0m\u001b[0;34m\u001b[0m\u001b[0m\n",
            "\u001b[0;31mNameError\u001b[0m: name 'train_model' is not defined"
          ]
        }
      ],
      "source": [
        "feature_reps=['binary','counts','tfidf']\n",
        "fields=['text_desc','text_desc_headline','text_desc_headline_url']\n",
        "top_ks=[3]\n",
        "\n",
        "results=[]\n",
        "for field in fields:\n",
        "    for feature_rep in feature_reps:\n",
        "        for top_k in top_ks:\n",
        "            model,transformer,acc,mrr_at_k=train_model(df,field=field,feature_rep=feature_rep,top_k=top_k)\n",
        "            results.append([field,feature_rep,top_k,acc,mrr_at_k])\n",
        "            print(\"\\nAccuracy={0}; MRR={1}\".format(acc,mrr_at_k))"
      ]
    },
    {
      "cell_type": "markdown",
      "metadata": {
        "id": "37KqQoCikIBj"
      },
      "source": [
        "### Results of Various Models"
      ]
    },
    {
      "cell_type": "code",
      "execution_count": null,
      "metadata": {
        "id": "rtqFQVMHkIBj",
        "outputId": "f9b6a986-7dfb-4678-a47d-4edd86f80d31"
      },
      "outputs": [
        {
          "data": {
            "text/html": [
              "<div>\n",
              "<style scoped>\n",
              "    .dataframe tbody tr th:only-of-type {\n",
              "        vertical-align: middle;\n",
              "    }\n",
              "\n",
              "    .dataframe tbody tr th {\n",
              "        vertical-align: top;\n",
              "    }\n",
              "\n",
              "    .dataframe thead th {\n",
              "        text-align: right;\n",
              "    }\n",
              "</style>\n",
              "<table border=\"1\" class=\"dataframe\">\n",
              "  <thead>\n",
              "    <tr style=\"text-align: right;\">\n",
              "      <th></th>\n",
              "      <th>text_fields</th>\n",
              "      <th>feature_representation</th>\n",
              "      <th>top_k</th>\n",
              "      <th>accuracy</th>\n",
              "      <th>mrr_at_k</th>\n",
              "    </tr>\n",
              "  </thead>\n",
              "  <tbody>\n",
              "    <tr>\n",
              "      <th>8</th>\n",
              "      <td>text_desc_headline_url</td>\n",
              "      <td>tfidf</td>\n",
              "      <td>3</td>\n",
              "      <td>0.867256</td>\n",
              "      <td>0.751152</td>\n",
              "    </tr>\n",
              "    <tr>\n",
              "      <th>6</th>\n",
              "      <td>text_desc_headline_url</td>\n",
              "      <td>binary</td>\n",
              "      <td>3</td>\n",
              "      <td>0.830165</td>\n",
              "      <td>0.715587</td>\n",
              "    </tr>\n",
              "    <tr>\n",
              "      <th>7</th>\n",
              "      <td>text_desc_headline_url</td>\n",
              "      <td>counts</td>\n",
              "      <td>3</td>\n",
              "      <td>0.829653</td>\n",
              "      <td>0.718131</td>\n",
              "    </tr>\n",
              "    <tr>\n",
              "      <th>5</th>\n",
              "      <td>text_desc_headline</td>\n",
              "      <td>tfidf</td>\n",
              "      <td>3</td>\n",
              "      <td>0.835925</td>\n",
              "      <td>0.717171</td>\n",
              "    </tr>\n",
              "    <tr>\n",
              "      <th>3</th>\n",
              "      <td>text_desc_headline</td>\n",
              "      <td>binary</td>\n",
              "      <td>3</td>\n",
              "      <td>0.794675</td>\n",
              "      <td>0.679169</td>\n",
              "    </tr>\n",
              "    <tr>\n",
              "      <th>4</th>\n",
              "      <td>text_desc_headline</td>\n",
              "      <td>counts</td>\n",
              "      <td>3</td>\n",
              "      <td>0.792179</td>\n",
              "      <td>0.677894</td>\n",
              "    </tr>\n",
              "    <tr>\n",
              "      <th>2</th>\n",
              "      <td>text_desc</td>\n",
              "      <td>tfidf</td>\n",
              "      <td>3</td>\n",
              "      <td>0.630632</td>\n",
              "      <td>0.510838</td>\n",
              "    </tr>\n",
              "    <tr>\n",
              "      <th>0</th>\n",
              "      <td>text_desc</td>\n",
              "      <td>binary</td>\n",
              "      <td>3</td>\n",
              "      <td>0.598054</td>\n",
              "      <td>0.480489</td>\n",
              "    </tr>\n",
              "    <tr>\n",
              "      <th>1</th>\n",
              "      <td>text_desc</td>\n",
              "      <td>counts</td>\n",
              "      <td>3</td>\n",
              "      <td>0.595526</td>\n",
              "      <td>0.478436</td>\n",
              "    </tr>\n",
              "  </tbody>\n",
              "</table>\n",
              "</div>"
            ],
            "text/plain": [
              "              text_fields feature_representation  top_k  accuracy  mrr_at_k\n",
              "8  text_desc_headline_url                  tfidf      3  0.867256  0.751152\n",
              "6  text_desc_headline_url                 binary      3  0.830165  0.715587\n",
              "7  text_desc_headline_url                 counts      3  0.829653  0.718131\n",
              "5      text_desc_headline                  tfidf      3  0.835925  0.717171\n",
              "3      text_desc_headline                 binary      3  0.794675  0.679169\n",
              "4      text_desc_headline                 counts      3  0.792179  0.677894\n",
              "2               text_desc                  tfidf      3  0.630632  0.510838\n",
              "0               text_desc                 binary      3  0.598054  0.480489\n",
              "1               text_desc                 counts      3  0.595526  0.478436"
            ]
          },
          "execution_count": 21,
          "metadata": {},
          "output_type": "execute_result"
        }
      ],
      "source": [
        "df_results=pd.DataFrame(results,columns=['text_fields','feature_representation','top_k','accuracy','mrr_at_k'])\n",
        "df_results.sort_values(by=['text_fields','accuracy'],ascending=False)"
      ]
    },
    {
      "cell_type": "markdown",
      "metadata": {
        "id": "qN001O1SkIBj"
      },
      "source": [
        "## Save Model for Future Use\n"
      ]
    },
    {
      "cell_type": "code",
      "execution_count": null,
      "metadata": {
        "id": "8I37FQgKkIBj"
      },
      "outputs": [],
      "source": [
        "import pickle\n",
        "\n",
        "model_path=\"../models/model.pkl\"\n",
        "transformer_path=\"../models/transformer.pkl\"\n",
        "\n",
        "# we need to save both the transformer -> to encode a document and the model itself to make predictions based on the weight vectors\n",
        "pickle.dump(model,open(model_path, 'wb'))\n",
        "pickle.dump(transformer,open(transformer_path,'wb'))\n"
      ]
    },
    {
      "cell_type": "markdown",
      "metadata": {
        "id": "cU0Cn2frkIBj"
      },
      "source": [
        "## Use Loaded Model"
      ]
    },
    {
      "cell_type": "code",
      "execution_count": null,
      "metadata": {
        "id": "kY6JnEWSkIBj",
        "outputId": "230d3a26-860a-41bf-c136-37b5a57c2d55"
      },
      "outputs": [
        {
          "data": {
            "text/plain": [
              "[['POLITICS', 'THE WORLDPOST']]"
            ]
          },
          "execution_count": 44,
          "metadata": {},
          "output_type": "execute_result"
        }
      ],
      "source": [
        "loaded_model = pickle.load(open(model_path, 'rb'))\n",
        "loaded_transformer = pickle.load(open(transformer_path, 'rb'))\n",
        "\n",
        "\n",
        "test_features=loaded_transformer.transform([\"President Trump AND THE impeachment story !!!\"])\n",
        "get_top_k_predictions(loaded_model,test_features,2)\n"
      ]
    },
    {
      "cell_type": "code",
      "execution_count": null,
      "metadata": {
        "id": "tfarhwzzkIBk"
      },
      "outputs": [],
      "source": []
    }
  ],
  "metadata": {
    "kernelspec": {
      "display_name": "Python 3",
      "language": "python",
      "name": "python3"
    },
    "language_info": {
      "codemirror_mode": {
        "name": "ipython",
        "version": 3
      },
      "file_extension": ".py",
      "mimetype": "text/x-python",
      "name": "python",
      "nbconvert_exporter": "python",
      "pygments_lexer": "ipython3",
      "version": "3.6.5"
    },
    "colab": {
      "provenance": []
    }
  },
  "nbformat": 4,
  "nbformat_minor": 0
}